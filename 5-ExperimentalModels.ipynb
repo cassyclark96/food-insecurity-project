{
 "cells": [
  {
   "cell_type": "markdown",
   "metadata": {},
   "source": [
    "# SMOTE Modeling"
   ]
  },
  {
   "cell_type": "code",
   "execution_count": 58,
   "metadata": {},
   "outputs": [],
   "source": [
    "import pandas as pd\n",
    "import numpy as np\n",
    "from sklearn.model_selection import train_test_split\n",
    "from sklearn.preprocessing import StandardScaler\n",
    "from sklearn.metrics import confusion_matrix, classification_report, accuracy_score, plot_confusion_matrix\n",
    "from sklearn.linear_model import LogisticRegression\n",
    "from imblearn.over_sampling import SMOTE, ADASYN\n",
    "from imblearn.pipeline import Pipeline\n",
    "from sklearn.model_selection import GridSearchCV\n",
    "\n",
    "import warnings\n",
    "warnings.filterwarnings('ignore')"
   ]
  },
  {
   "cell_type": "code",
   "execution_count": 2,
   "metadata": {},
   "outputs": [
    {
     "data": {
      "text/html": [
       "<div>\n",
       "<style scoped>\n",
       "    .dataframe tbody tr th:only-of-type {\n",
       "        vertical-align: middle;\n",
       "    }\n",
       "\n",
       "    .dataframe tbody tr th {\n",
       "        vertical-align: top;\n",
       "    }\n",
       "\n",
       "    .dataframe thead th {\n",
       "        text-align: right;\n",
       "    }\n",
       "</style>\n",
       "<table border=\"1\" class=\"dataframe\">\n",
       "  <thead>\n",
       "    <tr style=\"text-align: right;\">\n",
       "      <th></th>\n",
       "      <th>HEFAMINC</th>\n",
       "      <th>HRNUMHOU</th>\n",
       "      <th>PRTAGE</th>\n",
       "      <th>PERET1</th>\n",
       "      <th>PEHRUSLT</th>\n",
       "      <th>PRNMCHLD</th>\n",
       "      <th>QSTNUM</th>\n",
       "      <th>HESP6</th>\n",
       "      <th>HESP7</th>\n",
       "      <th>HESP7A</th>\n",
       "      <th>...</th>\n",
       "      <th>race</th>\n",
       "      <th>marital_status</th>\n",
       "      <th>food_pantry</th>\n",
       "      <th>has_dis</th>\n",
       "      <th>service_status</th>\n",
       "      <th>job_loss</th>\n",
       "      <th>type_job</th>\n",
       "      <th>in_union</th>\n",
       "      <th>in_school</th>\n",
       "      <th>has_stamps</th>\n",
       "    </tr>\n",
       "  </thead>\n",
       "  <tbody>\n",
       "    <tr>\n",
       "      <th>0</th>\n",
       "      <td>100000</td>\n",
       "      <td>4</td>\n",
       "      <td>30</td>\n",
       "      <td>0</td>\n",
       "      <td>60</td>\n",
       "      <td>2</td>\n",
       "      <td>1</td>\n",
       "      <td>0</td>\n",
       "      <td>0</td>\n",
       "      <td>0</td>\n",
       "      <td>...</td>\n",
       "      <td>White</td>\n",
       "      <td>yes</td>\n",
       "      <td>Unknown</td>\n",
       "      <td>No</td>\n",
       "      <td>No</td>\n",
       "      <td>No</td>\n",
       "      <td>ForProf</td>\n",
       "      <td>No</td>\n",
       "      <td>No</td>\n",
       "      <td>no</td>\n",
       "    </tr>\n",
       "    <tr>\n",
       "      <th>1</th>\n",
       "      <td>75000</td>\n",
       "      <td>3</td>\n",
       "      <td>20</td>\n",
       "      <td>0</td>\n",
       "      <td>40</td>\n",
       "      <td>1</td>\n",
       "      <td>2</td>\n",
       "      <td>0</td>\n",
       "      <td>0</td>\n",
       "      <td>0</td>\n",
       "      <td>...</td>\n",
       "      <td>White</td>\n",
       "      <td>yes</td>\n",
       "      <td>Unknown</td>\n",
       "      <td>No</td>\n",
       "      <td>No</td>\n",
       "      <td>No</td>\n",
       "      <td>ForProf</td>\n",
       "      <td>No</td>\n",
       "      <td>College</td>\n",
       "      <td>no</td>\n",
       "    </tr>\n",
       "    <tr>\n",
       "      <th>2</th>\n",
       "      <td>25000</td>\n",
       "      <td>3</td>\n",
       "      <td>20</td>\n",
       "      <td>0</td>\n",
       "      <td>0</td>\n",
       "      <td>1</td>\n",
       "      <td>5</td>\n",
       "      <td>0</td>\n",
       "      <td>0</td>\n",
       "      <td>2</td>\n",
       "      <td>...</td>\n",
       "      <td>White</td>\n",
       "      <td>yes</td>\n",
       "      <td>Yes</td>\n",
       "      <td>No</td>\n",
       "      <td>No</td>\n",
       "      <td>No</td>\n",
       "      <td>0</td>\n",
       "      <td>No</td>\n",
       "      <td>No</td>\n",
       "      <td>no</td>\n",
       "    </tr>\n",
       "    <tr>\n",
       "      <th>3</th>\n",
       "      <td>50000</td>\n",
       "      <td>1</td>\n",
       "      <td>20</td>\n",
       "      <td>0</td>\n",
       "      <td>40</td>\n",
       "      <td>0</td>\n",
       "      <td>6</td>\n",
       "      <td>0</td>\n",
       "      <td>0</td>\n",
       "      <td>0</td>\n",
       "      <td>...</td>\n",
       "      <td>Black</td>\n",
       "      <td>no</td>\n",
       "      <td>Yes</td>\n",
       "      <td>No</td>\n",
       "      <td>No</td>\n",
       "      <td>No</td>\n",
       "      <td>ForProf</td>\n",
       "      <td>No</td>\n",
       "      <td>No</td>\n",
       "      <td>no</td>\n",
       "    </tr>\n",
       "    <tr>\n",
       "      <th>4</th>\n",
       "      <td>150000</td>\n",
       "      <td>6</td>\n",
       "      <td>40</td>\n",
       "      <td>0</td>\n",
       "      <td>32</td>\n",
       "      <td>0</td>\n",
       "      <td>7</td>\n",
       "      <td>0</td>\n",
       "      <td>0</td>\n",
       "      <td>0</td>\n",
       "      <td>...</td>\n",
       "      <td>White</td>\n",
       "      <td>yes</td>\n",
       "      <td>Yes</td>\n",
       "      <td>No</td>\n",
       "      <td>No</td>\n",
       "      <td>No</td>\n",
       "      <td>Self-emp</td>\n",
       "      <td>No</td>\n",
       "      <td>No</td>\n",
       "      <td>no</td>\n",
       "    </tr>\n",
       "  </tbody>\n",
       "</table>\n",
       "<p>5 rows × 33 columns</p>\n",
       "</div>"
      ],
      "text/plain": [
       "   HEFAMINC  HRNUMHOU  PRTAGE  PERET1  PEHRUSLT  PRNMCHLD  QSTNUM  HESP6  \\\n",
       "0    100000         4      30       0        60         2       1      0   \n",
       "1     75000         3      20       0        40         1       2      0   \n",
       "2     25000         3      20       0         0         1       5      0   \n",
       "3     50000         1      20       0        40         0       6      0   \n",
       "4    150000         6      40       0        32         0       7      0   \n",
       "\n",
       "   HESP7  HESP7A  ...   race  marital_status  food_pantry  has_dis  \\\n",
       "0      0       0  ...  White             yes      Unknown       No   \n",
       "1      0       0  ...  White             yes      Unknown       No   \n",
       "2      0       2  ...  White             yes          Yes       No   \n",
       "3      0       0  ...  Black              no          Yes       No   \n",
       "4      0       0  ...  White             yes          Yes       No   \n",
       "\n",
       "   service_status  job_loss  type_job in_union in_school has_stamps  \n",
       "0              No        No   ForProf       No        No         no  \n",
       "1              No        No   ForProf       No   College         no  \n",
       "2              No        No         0       No        No         no  \n",
       "3              No        No   ForProf       No        No         no  \n",
       "4              No        No  Self-emp       No        No         no  \n",
       "\n",
       "[5 rows x 33 columns]"
      ]
     },
     "execution_count": 2,
     "metadata": {},
     "output_type": "execute_result"
    }
   ],
   "source": [
    "df = pd.read_csv('./data/cleaned_data.csv')\n",
    "\n",
    "df.head()"
   ]
  },
  {
   "cell_type": "markdown",
   "metadata": {},
   "source": [
    "### Final Cleaning Steps "
   ]
  },
  {
   "cell_type": "code",
   "execution_count": 3,
   "metadata": {},
   "outputs": [],
   "source": [
    "df.replace(['yes', 'no'], [1, 0], inplace=True)\n",
    "df['is_metro'] = df['is_metro'].map({'Metro':1, 'No':0}) \n",
    "df['has_dis'] = df['has_dis'].map({'Yes':1, 'No':0})\n",
    "df['in_school'] = df['in_school'].map({'College':1, 'HS':1, 'No':0})\n",
    "df['in_union'] = df['in_union'].map({'Yes':1, 'No':0})\n",
    "df['job_loss'] = df['job_loss'].map({'Lost':1, 'Quit':1, 'Temp':1, 'No':0})\n",
    "df['service_status'] = df['service_status'].map({'Yes':1, 'No':0})\n",
    "df['sex'] = df['sex'].map({'Male':1, 'Female':0})\n",
    "df.drop('QSTNUM', axis=1, inplace=True)"
   ]
  },
  {
   "cell_type": "markdown",
   "metadata": {},
   "source": [
    "### Pre-Processing Steps"
   ]
  },
  {
   "cell_type": "markdown",
   "metadata": {},
   "source": [
    "#### Target Encoding\n",
    "\n",
    "The same target encoding function that was used for the previous modeling notebook for this modeling notebook"
   ]
  },
  {
   "cell_type": "code",
   "execution_count": 4,
   "metadata": {},
   "outputs": [],
   "source": [
    "#target encoding categorical variables\n",
    "# arguments needed are dataframe to reference, column to find mean by, \n",
    "    # target column to base mean on, and the weight which was recommended as 10\n",
    "def target_encode(df, by, on, m):\n",
    "    \n",
    "    # getting mean from our target column\n",
    "    mean = df[on].mean()\n",
    "    \n",
    "    #getting count of amount of values and the mean\n",
    "    agg = df.groupby(by)[on].agg(['count', 'mean'])\n",
    "    n = agg['count']\n",
    "    means = agg['mean']\n",
    "    \n",
    "    # calculating smooth means by multiplying the num of variables with the means \n",
    "     # adding that to the weighted mean and dividing by the sum of counts and weight\n",
    "    smooth = (n * means + m * mean)/ (n + m)\n",
    "    \n",
    "    # using .map() to replace the old values with the target encoded mean values\n",
    "    return df[by].map(smooth)"
   ]
  },
  {
   "cell_type": "code",
   "execution_count": 5,
   "metadata": {},
   "outputs": [],
   "source": [
    "df['state'] = target_encode(df, 'state', 'food_secure', m=10)\n",
    "df['region'] = target_encode(df, 'region', 'food_secure', m=10)\n",
    "df['division'] = target_encode(df, 'division', 'food_secure', m=10)\n",
    "df['education'] = target_encode(df, 'education', 'food_secure', m=10)\n",
    "df['race'] = target_encode(df, 'race', 'food_secure', m=10)\n",
    "df['food_pantry'] = target_encode(df, 'food_pantry', 'food_secure', m=10)\n",
    "df['type_job'] = target_encode(df, 'type_job', 'food_secure', m=10)"
   ]
  },
  {
   "cell_type": "code",
   "execution_count": 35,
   "metadata": {},
   "outputs": [],
   "source": [
    "X = df.drop('food_secure', axis=1)\n",
    "\n",
    "y = df['food_secure']"
   ]
  },
  {
   "cell_type": "code",
   "execution_count": 62,
   "metadata": {},
   "outputs": [],
   "source": [
    "X_train, X_test, y_train, y_test = train_test_split(X, y, test_size=0.2, stratify=y)"
   ]
  },
  {
   "cell_type": "code",
   "execution_count": 63,
   "metadata": {},
   "outputs": [],
   "source": [
    "ss = StandardScaler()\n",
    "\n",
    "X_train_sc = ss.fit_transform(X_train)\n",
    "X_test_sc = ss.transform(X_test)"
   ]
  },
  {
   "cell_type": "code",
   "execution_count": 64,
   "metadata": {},
   "outputs": [],
   "source": [
    "sm = SMOTE()\n",
    "\n",
    "Xsm_train, ysm_train = sm.fit_sample(X_train_sc, y_train)"
   ]
  },
  {
   "cell_type": "code",
   "execution_count": 65,
   "metadata": {},
   "outputs": [
    {
     "name": "stdout",
     "output_type": "stream",
     "text": [
      "1    32114\n",
      "0    32114\n",
      "Name: food_secure, dtype: int64\n"
     ]
    }
   ],
   "source": [
    "print(pd.Series(ysm_train).value_counts())"
   ]
  },
  {
   "cell_type": "markdown",
   "metadata": {},
   "source": [
    "### Logistic Regression with SMOTE"
   ]
  },
  {
   "cell_type": "code",
   "execution_count": 66,
   "metadata": {},
   "outputs": [
    {
     "data": {
      "text/plain": [
       "LogisticRegression()"
      ]
     },
     "execution_count": 66,
     "metadata": {},
     "output_type": "execute_result"
    }
   ],
   "source": [
    "lr = LogisticRegression()\n",
    "\n",
    "lr.fit(Xsm_train, ysm_train)"
   ]
  },
  {
   "cell_type": "code",
   "execution_count": 67,
   "metadata": {},
   "outputs": [
    {
     "name": "stdout",
     "output_type": "stream",
     "text": [
      "Training score: 0.8833686242760167\n",
      "Testing score: 0.8904235727440147\n"
     ]
    }
   ],
   "source": [
    "print(f'Training score:', lr.score(Xsm_train, ysm_train))\n",
    "print(f'Testing score:', lr.score(X_test_sc, y_test))"
   ]
  },
  {
   "cell_type": "code",
   "execution_count": 68,
   "metadata": {},
   "outputs": [
    {
     "name": "stdout",
     "output_type": "stream",
     "text": [
      "[[7179  849]\n",
      " [ 222 1524]]\n"
     ]
    }
   ],
   "source": [
    "y_preds = lr.predict(X_test_sc)\n",
    "\n",
    "tn, fp, fn, tp = confusion_matrix(y_test, y_preds).ravel()\n",
    "\n",
    "print(confusion_matrix(y_test, y_preds))"
   ]
  },
  {
   "cell_type": "code",
   "execution_count": 69,
   "metadata": {},
   "outputs": [
    {
     "data": {
      "image/png": "[encoded data removed]",
      "text/plain": [
       "<Figure size 432x288 with 2 Axes>"
      ]
     },
     "metadata": {
      "needs_background": "light"
     },
     "output_type": "display_data"
    }
   ],
   "source": [
    "plot_confusion_matrix(lr, X_test_sc, y_test, cmap='PuBu');"
   ]
  },
  {
   "cell_type": "code",
   "execution_count": 70,
   "metadata": {},
   "outputs": [
    {
     "name": "stdout",
     "output_type": "stream",
     "text": [
      "Sensitivity score:  0.872852233676976\n"
     ]
    }
   ],
   "source": [
    "lr_sens = tp / (tp + fn)\n",
    "\n",
    "print(f\"Sensitivity score: \", lr_sens)"
   ]
  },
  {
   "cell_type": "code",
   "execution_count": 71,
   "metadata": {},
   "outputs": [
    {
     "name": "stdout",
     "output_type": "stream",
     "text": [
      "Specificity score:  0.9700040535062829\n"
     ]
    }
   ],
   "source": [
    "lr_spec = tn / (tn + fn)\n",
    "\n",
    "print(f\"Specificity score: \", lr_spec)"
   ]
  },
  {
   "cell_type": "code",
   "execution_count": 72,
   "metadata": {},
   "outputs": [
    {
     "name": "stdout",
     "output_type": "stream",
     "text": [
      "              precision    recall  f1-score   support\n",
      "\n",
      "           0       0.97      0.89      0.93      8028\n",
      "           1       0.64      0.87      0.74      1746\n",
      "\n",
      "    accuracy                           0.89      9774\n",
      "   macro avg       0.81      0.88      0.84      9774\n",
      "weighted avg       0.91      0.89      0.90      9774\n",
      "\n"
     ]
    }
   ],
   "source": [
    "print(classification_report(y_test, y_preds))"
   ]
  },
  {
   "cell_type": "markdown",
   "metadata": {},
   "source": [
    "### SMOTE Pipeline"
   ]
  },
  {
   "cell_type": "code",
   "execution_count": 73,
   "metadata": {},
   "outputs": [],
   "source": [
    "pipe = Pipeline([('sclae', StandardScaler()),\n",
    "                 ('sampling', SMOTE()),\n",
    "                 ('logreg', LogisticRegression())])"
   ]
  },
  {
   "cell_type": "code",
   "execution_count": 74,
   "metadata": {},
   "outputs": [],
   "source": [
    "pipe_params = {'sampling__sampling_strategy': ['minority', 'not minority', 'auto'],\n",
    "               'sampling__k_neighbors': [3, 5, 7],\n",
    "               'logreg__C': [0.1, 0.5, 1]\n",
    "}"
   ]
  },
  {
   "cell_type": "code",
   "execution_count": 75,
   "metadata": {},
   "outputs": [],
   "source": [
    "grid = GridSearchCV(pipe,\n",
    "                    pipe_params,\n",
    "                    cv=5,\n",
    "                    verbose=1)"
   ]
  },
  {
   "cell_type": "code",
   "execution_count": 76,
   "metadata": {},
   "outputs": [
    {
     "name": "stdout",
     "output_type": "stream",
     "text": [
      "Fitting 5 folds for each of 27 candidates, totalling 135 fits\n"
     ]
    },
    {
     "name": "stderr",
     "output_type": "stream",
     "text": [
      "[Parallel(n_jobs=1)]: Using backend SequentialBackend with 1 concurrent workers.\n",
      "[Parallel(n_jobs=1)]: Done 135 out of 135 | elapsed:  2.3min finished\n"
     ]
    },
    {
     "data": {
      "text/plain": [
       "GridSearchCV(cv=5,\n",
       "             estimator=Pipeline(steps=[('sclae', StandardScaler()),\n",
       "                                       ('sampling', SMOTE()),\n",
       "                                       ('logreg', LogisticRegression())]),\n",
       "             param_grid={'logreg__C': [0.1, 0.5, 1],\n",
       "                         'sampling__k_neighbors': [3, 5, 7],\n",
       "                         'sampling__sampling_strategy': ['minority',\n",
       "                                                         'not minority',\n",
       "                                                         'auto']},\n",
       "             verbose=1)"
      ]
     },
     "execution_count": 76,
     "metadata": {},
     "output_type": "execute_result"
    }
   ],
   "source": [
    "grid.fit(X_train, y_train)"
   ]
  },
  {
   "cell_type": "code",
   "execution_count": 77,
   "metadata": {},
   "outputs": [
    {
     "name": "stdout",
     "output_type": "stream",
     "text": [
      "Score on training data: 0.9360036832412523\n",
      "Score on testing data: 0.9405565786781256\n"
     ]
    }
   ],
   "source": [
    "print(f\"Score on training data:\", grid.score(X_train, y_train))\n",
    "print(f\"Score on testing data:\", grid.score(X_test, y_test))"
   ]
  },
  {
   "cell_type": "code",
   "execution_count": 78,
   "metadata": {},
   "outputs": [
    {
     "name": "stdout",
     "output_type": "stream",
     "text": [
      "[[7944   84]\n",
      " [ 497 1249]]\n"
     ]
    }
   ],
   "source": [
    "grid_preds = grid.predict(X_test)\n",
    "\n",
    "tn, fp, fn, tp = confusion_matrix(y_test, grid_preds).ravel()\n",
    "\n",
    "print(confusion_matrix(y_test, grid_preds))"
   ]
  },
  {
   "cell_type": "code",
   "execution_count": 79,
   "metadata": {},
   "outputs": [
    {
     "data": {
      "image/png": "[encoded data removed]",
      "text/plain": [
       "<Figure size 432x288 with 2 Axes>"
      ]
     },
     "metadata": {
      "needs_background": "light"
     },
     "output_type": "display_data"
    }
   ],
   "source": [
    "plot_confusion_matrix(grid, X_test, y_test, cmap='PuBu');"
   ]
  },
  {
   "cell_type": "code",
   "execution_count": 80,
   "metadata": {},
   "outputs": [
    {
     "name": "stdout",
     "output_type": "stream",
     "text": [
      "              precision    recall  f1-score   support\n",
      "\n",
      "           0       0.94      0.99      0.96      8028\n",
      "           1       0.94      0.72      0.81      1746\n",
      "\n",
      "    accuracy                           0.94      9774\n",
      "   macro avg       0.94      0.85      0.89      9774\n",
      "weighted avg       0.94      0.94      0.94      9774\n",
      "\n"
     ]
    }
   ],
   "source": [
    "print(classification_report(y_test, grid_preds))"
   ]
  },
  {
   "cell_type": "markdown",
   "metadata": {},
   "source": [
    "### ADASYN and Log Reg"
   ]
  },
  {
   "cell_type": "code",
   "execution_count": 81,
   "metadata": {},
   "outputs": [],
   "source": [
    "ada = ADASYN()\n",
    "\n",
    "X_train_ada, y_train_ada = ada.fit_sample(X_train_sc, y_train)"
   ]
  },
  {
   "cell_type": "code",
   "execution_count": 82,
   "metadata": {},
   "outputs": [
    {
     "name": "stdout",
     "output_type": "stream",
     "text": [
      "1    32587\n",
      "0    32114\n",
      "Name: food_secure, dtype: int64\n"
     ]
    }
   ],
   "source": [
    "print(pd.Series(y_train_ada).value_counts())"
   ]
  },
  {
   "cell_type": "code",
   "execution_count": 83,
   "metadata": {},
   "outputs": [
    {
     "data": {
      "text/plain": [
       "LogisticRegression()"
      ]
     },
     "execution_count": 83,
     "metadata": {},
     "output_type": "execute_result"
    }
   ],
   "source": [
    "lr = LogisticRegression()\n",
    "\n",
    "lr.fit(X_train_ada, y_train_ada)"
   ]
  },
  {
   "cell_type": "code",
   "execution_count": 84,
   "metadata": {},
   "outputs": [
    {
     "name": "stdout",
     "output_type": "stream",
     "text": [
      "Training score: 0.8042225004250321\n",
      "Testing score: 0.8782484141600164\n"
     ]
    }
   ],
   "source": [
    "print(f'Training score:', lr.score(X_train_ada, y_train_ada))\n",
    "print(f'Testing score:', lr.score(X_test_sc, y_test))"
   ]
  },
  {
   "cell_type": "code",
   "execution_count": null,
   "metadata": {},
   "outputs": [],
   "source": []
  }
 ],
 "metadata": {
  "kernelspec": {
   "display_name": "Python 3",
   "language": "python",
   "name": "python3"
  },
  "language_info": {
   "codemirror_mode": {
    "name": "ipython",
    "version": 3
   },
   "file_extension": ".py",
   "mimetype": "text/x-python",
   "name": "python",
   "nbconvert_exporter": "python",
   "pygments_lexer": "ipython3",
   "version": "3.8.3"
  }
 },
 "nbformat": 4,
 "nbformat_minor": 4
}
