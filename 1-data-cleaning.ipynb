{
 "cells": [
  {
   "cell_type": "markdown",
   "metadata": {},
   "source": [
    "# Data Cleaning"
   ]
  },
  {
   "cell_type": "code",
   "execution_count": 1,
   "metadata": {},
   "outputs": [],
   "source": [
    "import pandas as pd\n",
    "import numpy as np"
   ]
  },
  {
   "cell_type": "code",
   "execution_count": 2,
   "metadata": {},
   "outputs": [],
   "source": [
    "df = pd.read_csv('./data/19data.csv')"
   ]
  },
  {
   "cell_type": "code",
   "execution_count": 3,
   "metadata": {},
   "outputs": [
    {
     "data": {
      "text/html": [
       "<div>\n",
       "<style scoped>\n",
       "    .dataframe tbody tr th:only-of-type {\n",
       "        vertical-align: middle;\n",
       "    }\n",
       "\n",
       "    .dataframe tbody tr th {\n",
       "        vertical-align: top;\n",
       "    }\n",
       "\n",
       "    .dataframe thead th {\n",
       "        text-align: right;\n",
       "    }\n",
       "</style>\n",
       "<table border=\"1\" class=\"dataframe\">\n",
       "  <thead>\n",
       "    <tr style=\"text-align: right;\">\n",
       "      <th></th>\n",
       "      <th>HRHHID</th>\n",
       "      <th>HRMONTH</th>\n",
       "      <th>HRYEAR4</th>\n",
       "      <th>HURESPLI</th>\n",
       "      <th>HUFINAL</th>\n",
       "      <th>HULANGCODE</th>\n",
       "      <th>HETENURE</th>\n",
       "      <th>HEHOUSUT</th>\n",
       "      <th>HETELHHD</th>\n",
       "      <th>HETELAVL</th>\n",
       "      <th>...</th>\n",
       "      <th>HRFS30D1</th>\n",
       "      <th>HRFS30D2</th>\n",
       "      <th>HRFS30D3</th>\n",
       "      <th>HRFS30D4</th>\n",
       "      <th>HRFS30D5</th>\n",
       "      <th>HRFS30D6</th>\n",
       "      <th>HRFS30D7</th>\n",
       "      <th>HRFS30D8</th>\n",
       "      <th>HRFS30D9</th>\n",
       "      <th>HRFS30DE</th>\n",
       "    </tr>\n",
       "  </thead>\n",
       "  <tbody>\n",
       "    <tr>\n",
       "      <th>0</th>\n",
       "      <td>581125017600866</td>\n",
       "      <td>12</td>\n",
       "      <td>2019</td>\n",
       "      <td>2</td>\n",
       "      <td>201</td>\n",
       "      <td>0</td>\n",
       "      <td>1</td>\n",
       "      <td>1</td>\n",
       "      <td>1</td>\n",
       "      <td>-1</td>\n",
       "      <td>...</td>\n",
       "      <td>1</td>\n",
       "      <td>1</td>\n",
       "      <td>0</td>\n",
       "      <td>-6</td>\n",
       "      <td>1</td>\n",
       "      <td>0</td>\n",
       "      <td>-6</td>\n",
       "      <td>1</td>\n",
       "      <td>0</td>\n",
       "      <td>-6</td>\n",
       "    </tr>\n",
       "    <tr>\n",
       "      <th>1</th>\n",
       "      <td>581125017600866</td>\n",
       "      <td>12</td>\n",
       "      <td>2019</td>\n",
       "      <td>2</td>\n",
       "      <td>201</td>\n",
       "      <td>0</td>\n",
       "      <td>1</td>\n",
       "      <td>1</td>\n",
       "      <td>1</td>\n",
       "      <td>-1</td>\n",
       "      <td>...</td>\n",
       "      <td>1</td>\n",
       "      <td>1</td>\n",
       "      <td>0</td>\n",
       "      <td>-6</td>\n",
       "      <td>1</td>\n",
       "      <td>0</td>\n",
       "      <td>-6</td>\n",
       "      <td>1</td>\n",
       "      <td>0</td>\n",
       "      <td>-6</td>\n",
       "    </tr>\n",
       "    <tr>\n",
       "      <th>2</th>\n",
       "      <td>581125017600866</td>\n",
       "      <td>12</td>\n",
       "      <td>2019</td>\n",
       "      <td>2</td>\n",
       "      <td>201</td>\n",
       "      <td>0</td>\n",
       "      <td>1</td>\n",
       "      <td>1</td>\n",
       "      <td>1</td>\n",
       "      <td>-1</td>\n",
       "      <td>...</td>\n",
       "      <td>1</td>\n",
       "      <td>1</td>\n",
       "      <td>0</td>\n",
       "      <td>-6</td>\n",
       "      <td>1</td>\n",
       "      <td>0</td>\n",
       "      <td>-6</td>\n",
       "      <td>1</td>\n",
       "      <td>0</td>\n",
       "      <td>-6</td>\n",
       "    </tr>\n",
       "    <tr>\n",
       "      <th>3</th>\n",
       "      <td>581125017600866</td>\n",
       "      <td>12</td>\n",
       "      <td>2019</td>\n",
       "      <td>2</td>\n",
       "      <td>201</td>\n",
       "      <td>0</td>\n",
       "      <td>1</td>\n",
       "      <td>1</td>\n",
       "      <td>1</td>\n",
       "      <td>-1</td>\n",
       "      <td>...</td>\n",
       "      <td>1</td>\n",
       "      <td>1</td>\n",
       "      <td>0</td>\n",
       "      <td>-6</td>\n",
       "      <td>1</td>\n",
       "      <td>0</td>\n",
       "      <td>-6</td>\n",
       "      <td>1</td>\n",
       "      <td>0</td>\n",
       "      <td>-6</td>\n",
       "    </tr>\n",
       "    <tr>\n",
       "      <th>4</th>\n",
       "      <td>809001585510960</td>\n",
       "      <td>12</td>\n",
       "      <td>2019</td>\n",
       "      <td>1</td>\n",
       "      <td>201</td>\n",
       "      <td>0</td>\n",
       "      <td>2</td>\n",
       "      <td>1</td>\n",
       "      <td>1</td>\n",
       "      <td>-1</td>\n",
       "      <td>...</td>\n",
       "      <td>1</td>\n",
       "      <td>1</td>\n",
       "      <td>0</td>\n",
       "      <td>-6</td>\n",
       "      <td>1</td>\n",
       "      <td>0</td>\n",
       "      <td>-6</td>\n",
       "      <td>1</td>\n",
       "      <td>0</td>\n",
       "      <td>-6</td>\n",
       "    </tr>\n",
       "  </tbody>\n",
       "</table>\n",
       "<p>5 rows × 510 columns</p>\n",
       "</div>"
      ],
      "text/plain": [
       "            HRHHID  HRMONTH  HRYEAR4  HURESPLI  HUFINAL  HULANGCODE  HETENURE  \\\n",
       "0  581125017600866       12     2019         2      201           0         1   \n",
       "1  581125017600866       12     2019         2      201           0         1   \n",
       "2  581125017600866       12     2019         2      201           0         1   \n",
       "3  581125017600866       12     2019         2      201           0         1   \n",
       "4  809001585510960       12     2019         1      201           0         2   \n",
       "\n",
       "   HEHOUSUT  HETELHHD  HETELAVL  ...  HRFS30D1  HRFS30D2  HRFS30D3  HRFS30D4  \\\n",
       "0         1         1        -1  ...         1         1         0        -6   \n",
       "1         1         1        -1  ...         1         1         0        -6   \n",
       "2         1         1        -1  ...         1         1         0        -6   \n",
       "3         1         1        -1  ...         1         1         0        -6   \n",
       "4         1         1        -1  ...         1         1         0        -6   \n",
       "\n",
       "   HRFS30D5  HRFS30D6  HRFS30D7  HRFS30D8  HRFS30D9  HRFS30DE  \n",
       "0         1         0        -6         1         0        -6  \n",
       "1         1         0        -6         1         0        -6  \n",
       "2         1         0        -6         1         0        -6  \n",
       "3         1         0        -6         1         0        -6  \n",
       "4         1         0        -6         1         0        -6  \n",
       "\n",
       "[5 rows x 510 columns]"
      ]
     },
     "execution_count": 3,
     "metadata": {},
     "output_type": "execute_result"
    }
   ],
   "source": [
    "df.head()"
   ]
  },
  {
   "cell_type": "code",
   "execution_count": 4,
   "metadata": {},
   "outputs": [
    {
     "data": {
      "text/plain": [
       "(138964, 510)"
      ]
     },
     "execution_count": 4,
     "metadata": {},
     "output_type": "execute_result"
    }
   ],
   "source": [
    "df.shape"
   ]
  },
  {
   "cell_type": "markdown",
   "metadata": {},
   "source": [
    "### Null Values and Column Drops"
   ]
  },
  {
   "cell_type": "code",
   "execution_count": 5,
   "metadata": {
    "scrolled": true
   },
   "outputs": [
    {
     "data": {
      "text/plain": [
       "FILLER    138964\n",
       "dtype: int64"
      ]
     },
     "execution_count": 5,
     "metadata": {},
     "output_type": "execute_result"
    }
   ],
   "source": [
    "df.isnull().sum()[df.isnull().sum()!=0]"
   ]
  },
  {
   "cell_type": "markdown",
   "metadata": {},
   "source": [
    "- Dropping FILLER column because the data dictionary shows it being a space holder between different categories."
   ]
  },
  {
   "cell_type": "code",
   "execution_count": 6,
   "metadata": {},
   "outputs": [],
   "source": [
    "df.drop('FILLER', axis=1, inplace=True)"
   ]
  },
  {
   "cell_type": "code",
   "execution_count": 7,
   "metadata": {},
   "outputs": [
    {
     "data": {
      "text/plain": [
       "(138964, 509)"
      ]
     },
     "execution_count": 7,
     "metadata": {},
     "output_type": "execute_result"
    }
   ],
   "source": [
    "df.shape"
   ]
  },
  {
   "cell_type": "markdown",
   "metadata": {},
   "source": [
    "#### Choosing Columns to Drop Based on Data Dictionary\n",
    "- Dropping Month and Year column because we know this is 2019 data"
   ]
  },
  {
   "cell_type": "code",
   "execution_count": 8,
   "metadata": {},
   "outputs": [],
   "source": [
    "df.drop(['HRMONTH', 'HRYEAR4'], axis=1, inplace=True)"
   ]
  },
  {
   "cell_type": "code",
   "execution_count": 9,
   "metadata": {},
   "outputs": [
    {
     "data": {
      "text/plain": [
       "(138964, 507)"
      ]
     },
     "execution_count": 9,
     "metadata": {},
     "output_type": "execute_result"
    }
   ],
   "source": [
    "df.shape"
   ]
  },
  {
   "cell_type": "markdown",
   "metadata": {},
   "source": [
    "- Dropping columns related to telephones because 80% of households did interviews over the phone"
   ]
  },
  {
   "cell_type": "code",
   "execution_count": 10,
   "metadata": {},
   "outputs": [
    {
     "data": {
      "text/plain": [
       "1    80.33\n",
       "0    19.67\n",
       "Name: HEPHONEO, dtype: float64"
      ]
     },
     "execution_count": 10,
     "metadata": {},
     "output_type": "execute_result"
    }
   ],
   "source": [
    "df['HEPHONEO'].value_counts(normalize=True).mul(100).round(2)"
   ]
  },
  {
   "cell_type": "code",
   "execution_count": 11,
   "metadata": {},
   "outputs": [],
   "source": [
    "df.drop(['HETELHHD', 'HETELAVL', 'HEPHONEO'], axis=1, inplace=True)"
   ]
  },
  {
   "cell_type": "markdown",
   "metadata": {},
   "source": [
    "- Dropping rows about why interviews didn't happen because the about 90% have a value of -1 which means \"not in universe\" in the census which translates to \"not applicable\""
   ]
  },
  {
   "cell_type": "code",
   "execution_count": 12,
   "metadata": {},
   "outputs": [],
   "source": [
    "df.drop(['HUTYPEA', 'HUTYPB', 'HUTYPC', 'HRINTSTA'], axis=1, inplace=True)"
   ]
  },
  {
   "cell_type": "code",
   "execution_count": 13,
   "metadata": {},
   "outputs": [
    {
     "data": {
      "text/plain": [
       "(138964, 500)"
      ]
     },
     "execution_count": 13,
     "metadata": {},
     "output_type": "execute_result"
    }
   ],
   "source": [
    "df.shape"
   ]
  },
  {
   "cell_type": "markdown",
   "metadata": {},
   "source": [
    "- Dropping weighted columns since they are just there as a way to measure different ratios in the sample"
   ]
  },
  {
   "cell_type": "code",
   "execution_count": 14,
   "metadata": {},
   "outputs": [],
   "source": [
    "#[col for col in df.columns if 'WGT' in col]"
   ]
  },
  {
   "cell_type": "code",
   "execution_count": 15,
   "metadata": {},
   "outputs": [],
   "source": [
    "df.drop(['HWHHWGT', 'PWFMWGT', 'PWLGWGT', 'PWORWGT', 'PWSSWGT', 'PWVETWGT',\n",
    "         'PWCMPWGT', 'HHSUPWGT', 'PWSUPWGT'], axis=1, inplace=True)"
   ]
  },
  {
   "cell_type": "code",
   "execution_count": 16,
   "metadata": {},
   "outputs": [
    {
     "data": {
      "text/plain": [
       "(138964, 491)"
      ]
     },
     "execution_count": 16,
     "metadata": {},
     "output_type": "execute_result"
    }
   ],
   "source": [
    "df.shape"
   ]
  },
  {
   "cell_type": "markdown",
   "metadata": {},
   "source": [
    "- Next section of the data dictionary includes type of interview, attempted contacts, as well as multiple other columns regarding telephones so these will be dropped due to redundance and insignificance"
   ]
  },
  {
   "cell_type": "code",
   "execution_count": 17,
   "metadata": {},
   "outputs": [],
   "source": [
    "df.drop(['HRMIS', 'HUINTTYP', 'HUPRSCNT', 'HRLONGLK', 'HWHHWTLN'], axis=1, inplace=True)"
   ]
  },
  {
   "cell_type": "markdown",
   "metadata": {},
   "source": [
    "- Next, dropping columns to deal with if a person has a business or not where the values are numbers 1-99 with no explanation of what values mean."
   ]
  },
  {
   "cell_type": "code",
   "execution_count": 18,
   "metadata": {},
   "outputs": [],
   "source": [
    "df.drop(['HUBUSL1', 'HUBUSL2', 'HUBUSL3', 'HUBUSL4'], axis=1, inplace=True)"
   ]
  },
  {
   "cell_type": "code",
   "execution_count": 19,
   "metadata": {},
   "outputs": [
    {
     "data": {
      "text/plain": [
       "(138964, 482)"
      ]
     },
     "execution_count": 19,
     "metadata": {},
     "output_type": "execute_result"
    }
   ],
   "source": [
    "df.shape"
   ]
  },
  {
   "cell_type": "code",
   "execution_count": 20,
   "metadata": {},
   "outputs": [],
   "source": [
    "df.drop(['HURESPLI', 'HUFINAL', 'HEHOUSUT', 'HRHTYPE', 'HRHHID2', 'HUBUS'], axis=1, inplace=True)"
   ]
  },
  {
   "cell_type": "code",
   "execution_count": 21,
   "metadata": {},
   "outputs": [
    {
     "data": {
      "text/plain": [
       "['GTCBSAST', 'GTMETSTA', 'GTINDVPC', 'GTCBSASZ']"
      ]
     },
     "execution_count": 21,
     "metadata": {},
     "output_type": "execute_result"
    }
   ],
   "source": [
    "[col for col in df.columns if 'GT' in col]"
   ]
  },
  {
   "cell_type": "markdown",
   "metadata": {},
   "source": [
    "- Dropping all metropolitan columns besides the one that indicates wheter or not a place is in a metropolitan area ir not"
   ]
  },
  {
   "cell_type": "code",
   "execution_count": 22,
   "metadata": {},
   "outputs": [],
   "source": [
    "df.drop(['GTCBSAST', 'GTINDVPC', 'GTCBSASZ'], axis=1, inplace=True)"
   ]
  },
  {
   "cell_type": "markdown",
   "metadata": {},
   "source": [
    "- There are also multiple columns about family relations for each person so I will be dropping all but the main column for this variable"
   ]
  },
  {
   "cell_type": "code",
   "execution_count": 23,
   "metadata": {},
   "outputs": [],
   "source": [
    "df.drop(['PRFAMNUM', 'PRFAMTYP', 'PRMARSTA', 'PRPERTYP', 'PRCITFLG'], axis=1, inplace=True)"
   ]
  },
  {
   "cell_type": "code",
   "execution_count": 24,
   "metadata": {},
   "outputs": [
    {
     "data": {
      "text/plain": [
       "(138964, 468)"
      ]
     },
     "execution_count": 24,
     "metadata": {},
     "output_type": "execute_result"
    }
   ],
   "source": [
    "df.shape"
   ]
  },
  {
   "cell_type": "code",
   "execution_count": 25,
   "metadata": {},
   "outputs": [],
   "source": [
    "df.drop(['GCTCB', 'GCTCO'], axis=1, inplace=True)"
   ]
  },
  {
   "cell_type": "markdown",
   "metadata": {},
   "source": [
    "- The next section in the survey asks different versions of the same question about work so I will be dropping a lot of the redundant ones here too."
   ]
  },
  {
   "cell_type": "code",
   "execution_count": 26,
   "metadata": {},
   "outputs": [],
   "source": [
    "df.drop(['PUBUS1', 'PUBUS2OT', 'PUBUSCK1', 'PUBUSCK2', 'PUBUSCK3', 'PUBUSCK4', 'PURETOT', \n",
    "         'PUDIS1','PUDIS2', 'PUABSOT', 'PULAY', 'PEABSRSN', 'PEABSPDO', 'PEHRWANT', \n",
    "         'PEHRRSN2', 'PEHRRSN3', 'PUHROFF1','PUHROFF2', 'PUHROT1', 'PUHROT2', \n",
    "         'PEHRACT1', 'PEHRACT2', 'PEHRACTT', 'PEHRAVL', 'PUHRCK1', 'PUHRCK2', \n",
    "         'PUHRCK3', 'PUHRCK4', 'PUHRCK5', 'PUHRCK6', 'PUHRCK7', 'PUHRCK12', \n",
    "         'PULAYDT', 'PULAY6M', 'PELAYAVL','PULAYAVR', 'PELAYLK', 'PELAYDUR', \n",
    "         'PELAYFTO', 'PULAYCK1', 'PULAYCK2', 'PULAYCK3', 'PELKM1', 'PULKM2',\n",
    "         'PULKM3', 'PULKM4', 'PULKM5', 'PULKM6', 'PULKDK1', 'PULKDK2', 'PULKDK3', \n",
    "         'PULKDK4', 'PULKDK5', 'PULKDK6', 'PULKPS1', 'PULKPS2', 'PULKPS3', 'PULKPS4', \n",
    "         'PULKPS5', 'PULKPS6', 'PELKAVL', 'PULKAVR', 'PELKLWO', 'PELKDUR','PELKFTO', \n",
    "         'PEDWWNTO', 'PEDWRSN', 'PEDWLKO', 'PEDWWK', 'PEDW4WK', 'PEDWLKWK', 'PEDWAVL', \n",
    "         'PEDWAVR', 'PUDWCK1','PUDWCK2', 'PUDWCK3', 'PUDWCK4', 'PUDWCK5', 'PEJHWKO', \n",
    "         'PUJHDP1O', 'PEJHWANT', 'PUJHCK1', 'PUJHCK2', 'PRABSREA','PRCIVLF', 'PRDISC', \n",
    "         'PREMPHRS', 'PREMPNOT', 'PREXPLF', 'PRFTLF', 'PRJOBSEA', 'PRPTHRS', 'PRPTREA', \n",
    "         'PRUNEDUR','PRUNTYPE', 'PRWKSCH', 'PRWKSTAT', 'PRWNTJOB', 'PUJHCK3', 'PUJHCK4', \n",
    "         'PUJHCK5', 'PUIODP1', 'PUIODP2', 'PUIODP3','PUIOCK1', 'PUIOCK2', 'PUIOCK3', \n",
    "         'PRIOELG', 'PRCOWPG', 'PRDTCOW1', 'PRDTCOW2', 'PREMP', 'PRMJIND1', 'PRMJIND2',\n",
    "         'PRMJOCC1', 'PRMJOCC2'], axis=1, inplace=True)"
   ]
  },
  {
   "cell_type": "code",
   "execution_count": 27,
   "metadata": {},
   "outputs": [
    {
     "data": {
      "text/plain": [
       "(138964, 350)"
      ]
     },
     "execution_count": 27,
     "metadata": {},
     "output_type": "execute_result"
    }
   ],
   "source": [
    "df.shape"
   ]
  },
  {
   "cell_type": "markdown",
   "metadata": {},
   "source": [
    "- This data set contains a significant amount of \"allocation flag\" values that are imputed values in which the data dictionary does not explain what they are for or what they mean. These will be dropped since I will not be able to interpet their meaning or reason for being."
   ]
  },
  {
   "cell_type": "code",
   "execution_count": 28,
   "metadata": {},
   "outputs": [],
   "source": [
    "#[col for col in df.columns if 'PX' in col]"
   ]
  },
  {
   "cell_type": "code",
   "execution_count": 29,
   "metadata": {},
   "outputs": [],
   "source": [
    "df.drop(['PRMJOCGR', 'PRNAGPWS', 'PEERNH1O', 'PRERNHLY', 'PTHR', 'PTWK', 'PUERN2', 'PTOT', \n",
    "         'PENLFJH', 'PENLFRET', 'PUNLFCK1', 'PUNLFCK2', 'PESCHENR', 'PRCHLD', 'PXPDEMP1', \n",
    "         'PRWERNAL', 'PRHERNAL', 'HXTENURE', 'HXHOUSUT', 'HXTELHHD', 'HXTELAVL', 'HXPHONEO',\n",
    "         'PXPDEMP1', 'PXINUSYR', 'PXRRP', 'PXPARENT', 'PXAGE', 'PXMARITL', 'PXSPOUSE',\n",
    "         'PXSEX', 'PXAFWHN1', 'PXAFNOW', 'PXEDUCA', 'PXRACE1', 'PXNATVTY', 'PXMNTVTY', \n",
    "         'PXFNTVTY', 'PXNMEMP1', 'PXHSPNON', 'PXMLR', 'PXRET1', 'PXABSRSN', 'PXABSPDO', \n",
    "         'PXMJOT', 'PXMJNUM', 'PXHRUSL1', 'PXHRUSL2', 'PXHRFTPT', 'PXHRUSLT','PXHRWANT', \n",
    "         'PXHRRSN1', 'PXHRRSN2', 'PXHRACT1', 'PXHRACT2', 'PXHRACTT', 'PXHRRSN3', 'PXHRAVL', \n",
    "         'PXLAYAVL', 'PXLAYLK','PXLAYDUR', 'PXLAYFTO', 'PXLKM1', 'PXLKAVL', 'PXLKLL1O', \n",
    "         'PXLKLL2O', 'PXLKLWO', 'PXLKDUR', 'PXLKFTO', 'PXDWWNTO','PXDWRSN', 'PXDWLKO', \n",
    "         'PXDWWK', 'PXDW4WK', 'PXDWLKWK', 'PXDWAVL', 'PXDWAVR', 'PXJHWKO', 'PXJHRSN', \n",
    "         'PXJHWANT','PXIO1COW', 'PXIO1ICD', 'PXIO1OCD', 'PXIO2COW', 'PXIO2ICD', 'PXIO2OCD', \n",
    "         'PXERNUOT', 'PXERNPER', 'PXERNH1O', 'PXERNHRO','PXERN', 'PXPDEMP2', 'PXNMEMP2', \n",
    "         'PXERNWKP', 'PXERNRT', 'PXERNHRY', 'PXERNH2', 'PXERNLAB', 'PXERNCOV', 'PXNLFJH',\n",
    "         'PXNLFRET', 'PXNLFACT', 'PXSCHENR', 'PXSCHFT', 'PXSCHLVL', 'PXDIPGED', 'PXHGCOMP', \n",
    "         'PXCYC', 'PXAFEVER', 'PXLNDAD','PXLNMOM', 'PXDADTYP', 'PXMOMTYP', 'PXCOHAB', \n",
    "         'PXDISEAR', 'PXDISEYE', 'PXDISREM', 'PXDISPHY', 'PXDISDRS', 'PXDISOUT',\n",
    "         'PXCERT1', 'PXCERT2', 'PXCERT3'], axis=1, inplace=True)"
   ]
  },
  {
   "cell_type": "code",
   "execution_count": 30,
   "metadata": {},
   "outputs": [
    {
     "data": {
      "text/plain": [
       "(138964, 229)"
      ]
     },
     "execution_count": 30,
     "metadata": {},
     "output_type": "execute_result"
    }
   ],
   "source": [
    "df.shape"
   ]
  },
  {
   "cell_type": "markdown",
   "metadata": {},
   "source": [
    "- The next set of the data dictionary contains multiple questions asking about one's education, additional columns referring to one's status of employment and the type of job they do, household makeup and disabilities. Since there are already columns in the beginning that ask these questions, these additional columns will be dropped."
   ]
  },
  {
   "cell_type": "code",
   "execution_count": 31,
   "metadata": {},
   "outputs": [],
   "source": [
    "df.drop(['PEHGCOMP', 'PEIO1ICD', 'PEIO1OCD', 'PEIO2ICD', 'PEIO2OCD', 'PRIMIND1', 'PRIMIND2', \n",
    "         'PEAFWHN2', 'PEAFWHN3','PEAFWHN4', 'PELNDAD', 'PELNMOM', 'PECOHAB', 'PEDISEAR', \n",
    "         'PEDISEYE', 'PEDISREM', 'PEDISPHY', 'PEDISDRS','PEDISOUT', 'PEPDEMP1', 'PTNMEMP1', \n",
    "         'PEPDEMP2', 'PTNMEMP2', 'PECERT1', 'PECERT2', 'PECERT3'], axis=1, inplace=True)"
   ]
  },
  {
   "cell_type": "code",
   "execution_count": 32,
   "metadata": {},
   "outputs": [
    {
     "data": {
      "text/plain": [
       "(138964, 203)"
      ]
     },
     "execution_count": 32,
     "metadata": {},
     "output_type": "execute_result"
    }
   ],
   "source": [
    "df.shape"
   ]
  },
  {
   "cell_type": "markdown",
   "metadata": {},
   "source": [
    "- The next set of columns to drop are going to include multiple verions of asking a household if they expereinced any food insecurity with the last 12 months and then the last 30 days."
   ]
  },
  {
   "cell_type": "code",
   "execution_count": 33,
   "metadata": {},
   "outputs": [],
   "source": [
    "df.drop(['HRFS12CX', 'HRFS12M1', 'HRFS12M3', 'HRFS12M4', 'HRFS12MC', 'HRFS12M6', 'HRFS12M7', \n",
    "         'HRFS12M9', 'HRFS12ME', 'HRFS30D1', 'HRFS30D2', 'HRFS30D3', 'HRFS30D4', 'HRFS30D5', \n",
    "         'HRFS30D6', 'HRFS30D7', 'HRFS30D8', 'HRFS30D9','HRFS30DE'], axis=1, inplace=True)"
   ]
  },
  {
   "cell_type": "code",
   "execution_count": 34,
   "metadata": {},
   "outputs": [],
   "source": [
    "df.drop(['HRSUPINT', 'HRPOOR', 'HRFS12MD', 'HRFS12M8'], axis=1, inplace=True)"
   ]
  },
  {
   "cell_type": "code",
   "execution_count": 35,
   "metadata": {},
   "outputs": [],
   "source": [
    "df.drop(['HES1A', 'HES1B', 'HES1C', 'HES1D', 'HESP21', 'HESP22', 'HESP23', 'HESP24', 'HESP25', \n",
    "         'HESP26', 'HESP27','HESP28', 'HESP29', 'HESP210', 'HESP211', 'HESP212', 'HESP3OTC', \n",
    "         'HESP9TC', 'HESSM2', 'HESSM3', 'HESSM4','HESHF2', 'HESHM2', 'HESH3', 'HESHF3', \n",
    "         'HESHM3', 'HESH2', 'HESHF4', 'HESHM4', 'HESH5', 'HESHM5', 'HESSH1','HESSHF1', 'HESSHM1', \n",
    "         'HESS5', 'HESSM5', 'HESS6', 'HESSM6', 'HESH1', 'HESHM1', 'HESSH2', 'HESSHF2', 'HESSHM2',\n",
    "         'HESSH3', 'HESSHF3', 'HESSHM3', 'HESSH4', 'HESSHF4', 'HESSHM4', 'HESSH5', 'HESCF3', \n",
    "         'HESCM3', 'HESC4','HESCF4', 'HESCM4'], axis=1, inplace=True)"
   ]
  },
  {
   "cell_type": "code",
   "execution_count": 36,
   "metadata": {},
   "outputs": [],
   "source": [
    "df.drop(['HETENURE', 'HETS2O', 'HETS3O', 'HETS4O', 'HETS5O', 'HETS6O', 'HETS7O', 'HETS8O', \n",
    "         'HETS8OU', 'HETS8CO','HETS8DO', 'HETSP2D', 'HETSP9', 'HETSHMF2', 'HETSHMF3', \n",
    "         'HETSHMF4', 'HETSSHMF1', 'HETSSHMF2', 'HETSSHMF3','HETSSHMF4'], axis=1, inplace=True)"
   ]
  },
  {
   "cell_type": "code",
   "execution_count": 37,
   "metadata": {},
   "outputs": [
    {
     "data": {
      "text/plain": [
       "(138964, 105)"
      ]
     },
     "execution_count": 37,
     "metadata": {},
     "output_type": "execute_result"
    }
   ],
   "source": [
    "df.shape"
   ]
  },
  {
   "cell_type": "code",
   "execution_count": 38,
   "metadata": {},
   "outputs": [
    {
     "data": {
      "text/html": [
       "<div>\n",
       "<style scoped>\n",
       "    .dataframe tbody tr th:only-of-type {\n",
       "        vertical-align: middle;\n",
       "    }\n",
       "\n",
       "    .dataframe tbody tr th {\n",
       "        vertical-align: top;\n",
       "    }\n",
       "\n",
       "    .dataframe thead th {\n",
       "        text-align: right;\n",
       "    }\n",
       "</style>\n",
       "<table border=\"1\" class=\"dataframe\">\n",
       "  <thead>\n",
       "    <tr style=\"text-align: right;\">\n",
       "      <th></th>\n",
       "      <th>HRHHID</th>\n",
       "      <th>HULANGCODE</th>\n",
       "      <th>HEFAMINC</th>\n",
       "      <th>HRNUMHOU</th>\n",
       "      <th>GEREG</th>\n",
       "      <th>GEDIV</th>\n",
       "      <th>GCFIP</th>\n",
       "      <th>GTMETSTA</th>\n",
       "      <th>GCTCS</th>\n",
       "      <th>PERRP</th>\n",
       "      <th>...</th>\n",
       "      <th>HESP8</th>\n",
       "      <th>HESS1</th>\n",
       "      <th>HESS2</th>\n",
       "      <th>HESS3</th>\n",
       "      <th>HESS4</th>\n",
       "      <th>HESH4</th>\n",
       "      <th>HESC1</th>\n",
       "      <th>HESC2</th>\n",
       "      <th>HESC3</th>\n",
       "      <th>HESC3A</th>\n",
       "    </tr>\n",
       "  </thead>\n",
       "  <tbody>\n",
       "    <tr>\n",
       "      <th>0</th>\n",
       "      <td>581125017600866</td>\n",
       "      <td>0</td>\n",
       "      <td>14</td>\n",
       "      <td>4</td>\n",
       "      <td>4</td>\n",
       "      <td>9</td>\n",
       "      <td>2</td>\n",
       "      <td>1</td>\n",
       "      <td>0</td>\n",
       "      <td>1</td>\n",
       "      <td>...</td>\n",
       "      <td>-1</td>\n",
       "      <td>1</td>\n",
       "      <td>-1</td>\n",
       "      <td>-1</td>\n",
       "      <td>-1</td>\n",
       "      <td>-1</td>\n",
       "      <td>-1</td>\n",
       "      <td>-1</td>\n",
       "      <td>-1</td>\n",
       "      <td>-1</td>\n",
       "    </tr>\n",
       "    <tr>\n",
       "      <th>1</th>\n",
       "      <td>581125017600866</td>\n",
       "      <td>0</td>\n",
       "      <td>14</td>\n",
       "      <td>4</td>\n",
       "      <td>4</td>\n",
       "      <td>9</td>\n",
       "      <td>2</td>\n",
       "      <td>1</td>\n",
       "      <td>0</td>\n",
       "      <td>3</td>\n",
       "      <td>...</td>\n",
       "      <td>-1</td>\n",
       "      <td>1</td>\n",
       "      <td>-1</td>\n",
       "      <td>-1</td>\n",
       "      <td>-1</td>\n",
       "      <td>-1</td>\n",
       "      <td>-1</td>\n",
       "      <td>-1</td>\n",
       "      <td>-1</td>\n",
       "      <td>-1</td>\n",
       "    </tr>\n",
       "    <tr>\n",
       "      <th>2</th>\n",
       "      <td>581125017600866</td>\n",
       "      <td>0</td>\n",
       "      <td>14</td>\n",
       "      <td>4</td>\n",
       "      <td>4</td>\n",
       "      <td>9</td>\n",
       "      <td>2</td>\n",
       "      <td>1</td>\n",
       "      <td>0</td>\n",
       "      <td>4</td>\n",
       "      <td>...</td>\n",
       "      <td>-1</td>\n",
       "      <td>1</td>\n",
       "      <td>-1</td>\n",
       "      <td>-1</td>\n",
       "      <td>-1</td>\n",
       "      <td>-1</td>\n",
       "      <td>-1</td>\n",
       "      <td>-1</td>\n",
       "      <td>-1</td>\n",
       "      <td>-1</td>\n",
       "    </tr>\n",
       "    <tr>\n",
       "      <th>3</th>\n",
       "      <td>581125017600866</td>\n",
       "      <td>0</td>\n",
       "      <td>14</td>\n",
       "      <td>4</td>\n",
       "      <td>4</td>\n",
       "      <td>9</td>\n",
       "      <td>2</td>\n",
       "      <td>1</td>\n",
       "      <td>0</td>\n",
       "      <td>4</td>\n",
       "      <td>...</td>\n",
       "      <td>-1</td>\n",
       "      <td>1</td>\n",
       "      <td>-1</td>\n",
       "      <td>-1</td>\n",
       "      <td>-1</td>\n",
       "      <td>-1</td>\n",
       "      <td>-1</td>\n",
       "      <td>-1</td>\n",
       "      <td>-1</td>\n",
       "      <td>-1</td>\n",
       "    </tr>\n",
       "    <tr>\n",
       "      <th>4</th>\n",
       "      <td>809001585510960</td>\n",
       "      <td>0</td>\n",
       "      <td>13</td>\n",
       "      <td>3</td>\n",
       "      <td>3</td>\n",
       "      <td>7</td>\n",
       "      <td>5</td>\n",
       "      <td>1</td>\n",
       "      <td>0</td>\n",
       "      <td>1</td>\n",
       "      <td>...</td>\n",
       "      <td>-1</td>\n",
       "      <td>1</td>\n",
       "      <td>-1</td>\n",
       "      <td>-1</td>\n",
       "      <td>-1</td>\n",
       "      <td>-1</td>\n",
       "      <td>-1</td>\n",
       "      <td>-1</td>\n",
       "      <td>-1</td>\n",
       "      <td>-1</td>\n",
       "    </tr>\n",
       "  </tbody>\n",
       "</table>\n",
       "<p>5 rows × 105 columns</p>\n",
       "</div>"
      ],
      "text/plain": [
       "            HRHHID  HULANGCODE  HEFAMINC  HRNUMHOU  GEREG  GEDIV  GCFIP  \\\n",
       "0  581125017600866           0        14         4      4      9      2   \n",
       "1  581125017600866           0        14         4      4      9      2   \n",
       "2  581125017600866           0        14         4      4      9      2   \n",
       "3  581125017600866           0        14         4      4      9      2   \n",
       "4  809001585510960           0        13         3      3      7      5   \n",
       "\n",
       "   GTMETSTA  GCTCS  PERRP  ...  HESP8  HESS1  HESS2  HESS3  HESS4  HESH4  \\\n",
       "0         1      0      1  ...     -1      1     -1     -1     -1     -1   \n",
       "1         1      0      3  ...     -1      1     -1     -1     -1     -1   \n",
       "2         1      0      4  ...     -1      1     -1     -1     -1     -1   \n",
       "3         1      0      4  ...     -1      1     -1     -1     -1     -1   \n",
       "4         1      0      1  ...     -1      1     -1     -1     -1     -1   \n",
       "\n",
       "   HESC1  HESC2  HESC3  HESC3A  \n",
       "0     -1     -1     -1      -1  \n",
       "1     -1     -1     -1      -1  \n",
       "2     -1     -1     -1      -1  \n",
       "3     -1     -1     -1      -1  \n",
       "4     -1     -1     -1      -1  \n",
       "\n",
       "[5 rows x 105 columns]"
      ]
     },
     "execution_count": 38,
     "metadata": {},
     "output_type": "execute_result"
    }
   ],
   "source": [
    "df.head()"
   ]
  },
  {
   "cell_type": "markdown",
   "metadata": {},
   "source": [
    "- Dropping HULANGCODE column because it is not in the data dictionary"
   ]
  },
  {
   "cell_type": "code",
   "execution_count": 39,
   "metadata": {},
   "outputs": [],
   "source": [
    "df.drop(['HULANGCODE'], axis=1, inplace=True)"
   ]
  },
  {
   "cell_type": "markdown",
   "metadata": {},
   "source": [
    "### Creating columns indicating food insecure or not based on question responses"
   ]
  },
  {
   "cell_type": "markdown",
   "metadata": {},
   "source": [
    "- In this section I will be going through the remaining columns regarding the questionaire about household food and creating dummy variables while still keeping the \"not in universe\" value that way I can make a master column for households that experienced food insecurity at some point in the year."
   ]
  },
  {
   "cell_type": "code",
   "execution_count": 40,
   "metadata": {},
   "outputs": [
    {
     "data": {
      "text/plain": [
       "-1    61831\n",
       " 3    43120\n",
       " 2    24853\n",
       " 1     8995\n",
       "-2      145\n",
       "-3       20\n",
       "Name: HES8B, dtype: int64"
      ]
     },
     "execution_count": 40,
     "metadata": {},
     "output_type": "execute_result"
    }
   ],
   "source": [
    "df['HES8B'].value_counts()"
   ]
  },
  {
   "cell_type": "code",
   "execution_count": 41,
   "metadata": {},
   "outputs": [],
   "source": [
    "df['HES8B'].replace([1, 2, 3, -1, -2, -3], [1, 0, 0, -1, 1, 1], inplace=True)"
   ]
  },
  {
   "cell_type": "code",
   "execution_count": 42,
   "metadata": {},
   "outputs": [
    {
     "data": {
      "text/plain": [
       " 0    67973\n",
       "-1    61831\n",
       " 1     9160\n",
       "Name: HES8B, dtype: int64"
      ]
     },
     "execution_count": 42,
     "metadata": {},
     "output_type": "execute_result"
    }
   ],
   "source": [
    "df['HES8B'].value_counts()"
   ]
  },
  {
   "cell_type": "code",
   "execution_count": 43,
   "metadata": {},
   "outputs": [],
   "source": [
    "df['HES9'].replace([1, 2, -1, -2, -3], [1, 0, -1, 1, 1], inplace=True)"
   ]
  },
  {
   "cell_type": "code",
   "execution_count": 44,
   "metadata": {},
   "outputs": [
    {
     "data": {
      "text/plain": [
       " 0    65262\n",
       "-1    57142\n",
       " 1    16560\n",
       "Name: HES9, dtype: int64"
      ]
     },
     "execution_count": 44,
     "metadata": {},
     "output_type": "execute_result"
    }
   ],
   "source": [
    "df['HES9'].value_counts()"
   ]
  },
  {
   "cell_type": "code",
   "execution_count": 45,
   "metadata": {},
   "outputs": [],
   "source": [
    "df['HESP1'].replace([1, 2, -1, -2, -3], [1, 0, -1, 1, 1], inplace=True)"
   ]
  },
  {
   "cell_type": "code",
   "execution_count": 46,
   "metadata": {},
   "outputs": [
    {
     "data": {
      "text/plain": [
       "-1    108066\n",
       " 0     23729\n",
       " 1      7169\n",
       "Name: HESP1, dtype: int64"
      ]
     },
     "execution_count": 46,
     "metadata": {},
     "output_type": "execute_result"
    }
   ],
   "source": [
    "df['HESP1'].value_counts()"
   ]
  },
  {
   "cell_type": "code",
   "execution_count": 47,
   "metadata": {},
   "outputs": [],
   "source": [
    "df['HESS1'].replace([1, 2, 3, 4, -1, -2, -3], [0, 0, 1, 1, -1, 1, 1], inplace=True)"
   ]
  },
  {
   "cell_type": "code",
   "execution_count": 48,
   "metadata": {},
   "outputs": [
    {
     "data": {
      "text/plain": [
       " 0    79114\n",
       "-1    57142\n",
       " 1     2708\n",
       "Name: HESS1, dtype: int64"
      ]
     },
     "execution_count": 48,
     "metadata": {},
     "output_type": "execute_result"
    }
   ],
   "source": [
    "df['HESS1'].value_counts()"
   ]
  },
  {
   "cell_type": "code",
   "execution_count": 49,
   "metadata": {},
   "outputs": [],
   "source": [
    "df['HESS2'].replace([1, 2, 3, -1, -2, -3, -9], [1, 1, 0, -1, 1, 1, 1], inplace=True)"
   ]
  },
  {
   "cell_type": "code",
   "execution_count": 50,
   "metadata": {},
   "outputs": [
    {
     "data": {
      "text/plain": [
       "-1    104899\n",
       " 0     22335\n",
       " 1     11730\n",
       "Name: HESS2, dtype: int64"
      ]
     },
     "execution_count": 50,
     "metadata": {},
     "output_type": "execute_result"
    }
   ],
   "source": [
    "df['HESS2'].value_counts()"
   ]
  },
  {
   "cell_type": "code",
   "execution_count": 51,
   "metadata": {},
   "outputs": [],
   "source": [
    "df['HESS3'].replace([1, 2, 3, -1, -2, -3, -9], [1, 1, 0, -1, 1, 1, 1], inplace=True)"
   ]
  },
  {
   "cell_type": "code",
   "execution_count": 52,
   "metadata": {},
   "outputs": [
    {
     "data": {
      "text/plain": [
       "-1    104899\n",
       " 0     24725\n",
       " 1      9340\n",
       "Name: HESS3, dtype: int64"
      ]
     },
     "execution_count": 52,
     "metadata": {},
     "output_type": "execute_result"
    }
   ],
   "source": [
    "df['HESS3'].value_counts()"
   ]
  },
  {
   "cell_type": "code",
   "execution_count": 53,
   "metadata": {},
   "outputs": [],
   "source": [
    "df['HESS4'].replace([1, 2, 3, -1, -2, -3, -9], [1, 1, 0, -1, 1, 1, 1], inplace=True)"
   ]
  },
  {
   "cell_type": "code",
   "execution_count": 54,
   "metadata": {
    "scrolled": true
   },
   "outputs": [
    {
     "data": {
      "text/plain": [
       "-1    104899\n",
       " 0     24418\n",
       " 1      9647\n",
       "Name: HESS4, dtype: int64"
      ]
     },
     "execution_count": 54,
     "metadata": {},
     "output_type": "execute_result"
    }
   ],
   "source": [
    "df['HESS4'].value_counts()"
   ]
  },
  {
   "cell_type": "markdown",
   "metadata": {},
   "source": [
    "- Creating a master column indicating if an individual has ever worried about food based on responses to the above changed columns. "
   ]
  },
  {
   "cell_type": "code",
   "execution_count": 55,
   "metadata": {},
   "outputs": [],
   "source": [
    "df['food_secure'] = df['HES8B'] + df['HES9'] + df['HESP1'] + df['HESS2'] + df['HESS3'] + df['HESS4']"
   ]
  },
  {
   "cell_type": "code",
   "execution_count": 56,
   "metadata": {},
   "outputs": [],
   "source": [
    "df['food_secure'].replace([0, 1, 2, 3, 4, 5, 6, -1, -2, -3, -4, -5, -6], \n",
    "                          [0, 1, 1, 1, 1, 1, 1, 0, 1, 1, 0, 0, -1], inplace=True)"
   ]
  },
  {
   "cell_type": "code",
   "execution_count": 57,
   "metadata": {},
   "outputs": [
    {
     "data": {
      "text/plain": [
       " 0    58875\n",
       "-1    57142\n",
       " 1    22947\n",
       "Name: food_secure, dtype: int64"
      ]
     },
     "execution_count": 57,
     "metadata": {},
     "output_type": "execute_result"
    }
   ],
   "source": [
    "df['food_secure'].value_counts()"
   ]
  },
  {
   "cell_type": "markdown",
   "metadata": {},
   "source": [
    "- After creating the column and seeing the wide range of numbers I created a sample data frame below to tally up the 1's, 0's, and -1's to figure out if an individual experienced food insecurity. This has been commented out to clean up the notebook. I will now be dropping the individual columns that make up the food secure column. 1 == insecure, 0 == secure"
   ]
  },
  {
   "cell_type": "code",
   "execution_count": 58,
   "metadata": {},
   "outputs": [],
   "source": [
    "#sample = df[['food_secure', 'HES8B', 'HES9', 'HESP1', 'HESS2', 'HESS3', 'HESS4']]\n",
    "\n",
    "#sample_df = pd.DataFrame(sample)\n",
    "#sample_df"
   ]
  },
  {
   "cell_type": "code",
   "execution_count": 59,
   "metadata": {},
   "outputs": [],
   "source": [
    "df.drop(['HES8B', 'HES9', 'HESP1', 'HESS2', 'HESS3', 'HESS4'], axis=1, inplace=True)"
   ]
  },
  {
   "cell_type": "code",
   "execution_count": 60,
   "metadata": {},
   "outputs": [
    {
     "data": {
      "text/html": [
       "<div>\n",
       "<style scoped>\n",
       "    .dataframe tbody tr th:only-of-type {\n",
       "        vertical-align: middle;\n",
       "    }\n",
       "\n",
       "    .dataframe tbody tr th {\n",
       "        vertical-align: top;\n",
       "    }\n",
       "\n",
       "    .dataframe thead th {\n",
       "        text-align: right;\n",
       "    }\n",
       "</style>\n",
       "<table border=\"1\" class=\"dataframe\">\n",
       "  <thead>\n",
       "    <tr style=\"text-align: right;\">\n",
       "      <th></th>\n",
       "      <th>HRHHID</th>\n",
       "      <th>HEFAMINC</th>\n",
       "      <th>HRNUMHOU</th>\n",
       "      <th>GEREG</th>\n",
       "      <th>GEDIV</th>\n",
       "      <th>GCFIP</th>\n",
       "      <th>GTMETSTA</th>\n",
       "      <th>GCTCS</th>\n",
       "      <th>PERRP</th>\n",
       "      <th>PEPARENT</th>\n",
       "      <th>...</th>\n",
       "      <th>HESP7</th>\n",
       "      <th>HESP7A</th>\n",
       "      <th>HESP8</th>\n",
       "      <th>HESS1</th>\n",
       "      <th>HESH4</th>\n",
       "      <th>HESC1</th>\n",
       "      <th>HESC2</th>\n",
       "      <th>HESC3</th>\n",
       "      <th>HESC3A</th>\n",
       "      <th>food_secure</th>\n",
       "    </tr>\n",
       "  </thead>\n",
       "  <tbody>\n",
       "    <tr>\n",
       "      <th>0</th>\n",
       "      <td>581125017600866</td>\n",
       "      <td>14</td>\n",
       "      <td>4</td>\n",
       "      <td>4</td>\n",
       "      <td>9</td>\n",
       "      <td>2</td>\n",
       "      <td>1</td>\n",
       "      <td>0</td>\n",
       "      <td>1</td>\n",
       "      <td>-1</td>\n",
       "      <td>...</td>\n",
       "      <td>-1</td>\n",
       "      <td>-1</td>\n",
       "      <td>-1</td>\n",
       "      <td>0</td>\n",
       "      <td>-1</td>\n",
       "      <td>-1</td>\n",
       "      <td>-1</td>\n",
       "      <td>-1</td>\n",
       "      <td>-1</td>\n",
       "      <td>0</td>\n",
       "    </tr>\n",
       "    <tr>\n",
       "      <th>1</th>\n",
       "      <td>581125017600866</td>\n",
       "      <td>14</td>\n",
       "      <td>4</td>\n",
       "      <td>4</td>\n",
       "      <td>9</td>\n",
       "      <td>2</td>\n",
       "      <td>1</td>\n",
       "      <td>0</td>\n",
       "      <td>3</td>\n",
       "      <td>-1</td>\n",
       "      <td>...</td>\n",
       "      <td>-1</td>\n",
       "      <td>-1</td>\n",
       "      <td>-1</td>\n",
       "      <td>0</td>\n",
       "      <td>-1</td>\n",
       "      <td>-1</td>\n",
       "      <td>-1</td>\n",
       "      <td>-1</td>\n",
       "      <td>-1</td>\n",
       "      <td>0</td>\n",
       "    </tr>\n",
       "    <tr>\n",
       "      <th>2</th>\n",
       "      <td>581125017600866</td>\n",
       "      <td>14</td>\n",
       "      <td>4</td>\n",
       "      <td>4</td>\n",
       "      <td>9</td>\n",
       "      <td>2</td>\n",
       "      <td>1</td>\n",
       "      <td>0</td>\n",
       "      <td>4</td>\n",
       "      <td>1</td>\n",
       "      <td>...</td>\n",
       "      <td>-1</td>\n",
       "      <td>-1</td>\n",
       "      <td>-1</td>\n",
       "      <td>0</td>\n",
       "      <td>-1</td>\n",
       "      <td>-1</td>\n",
       "      <td>-1</td>\n",
       "      <td>-1</td>\n",
       "      <td>-1</td>\n",
       "      <td>0</td>\n",
       "    </tr>\n",
       "    <tr>\n",
       "      <th>3</th>\n",
       "      <td>581125017600866</td>\n",
       "      <td>14</td>\n",
       "      <td>4</td>\n",
       "      <td>4</td>\n",
       "      <td>9</td>\n",
       "      <td>2</td>\n",
       "      <td>1</td>\n",
       "      <td>0</td>\n",
       "      <td>4</td>\n",
       "      <td>1</td>\n",
       "      <td>...</td>\n",
       "      <td>-1</td>\n",
       "      <td>-1</td>\n",
       "      <td>-1</td>\n",
       "      <td>0</td>\n",
       "      <td>-1</td>\n",
       "      <td>-1</td>\n",
       "      <td>-1</td>\n",
       "      <td>-1</td>\n",
       "      <td>-1</td>\n",
       "      <td>0</td>\n",
       "    </tr>\n",
       "    <tr>\n",
       "      <th>4</th>\n",
       "      <td>809001585510960</td>\n",
       "      <td>13</td>\n",
       "      <td>3</td>\n",
       "      <td>3</td>\n",
       "      <td>7</td>\n",
       "      <td>5</td>\n",
       "      <td>1</td>\n",
       "      <td>0</td>\n",
       "      <td>1</td>\n",
       "      <td>-1</td>\n",
       "      <td>...</td>\n",
       "      <td>-1</td>\n",
       "      <td>-1</td>\n",
       "      <td>-1</td>\n",
       "      <td>0</td>\n",
       "      <td>-1</td>\n",
       "      <td>-1</td>\n",
       "      <td>-1</td>\n",
       "      <td>-1</td>\n",
       "      <td>-1</td>\n",
       "      <td>0</td>\n",
       "    </tr>\n",
       "  </tbody>\n",
       "</table>\n",
       "<p>5 rows × 99 columns</p>\n",
       "</div>"
      ],
      "text/plain": [
       "            HRHHID  HEFAMINC  HRNUMHOU  GEREG  GEDIV  GCFIP  GTMETSTA  GCTCS  \\\n",
       "0  581125017600866        14         4      4      9      2         1      0   \n",
       "1  581125017600866        14         4      4      9      2         1      0   \n",
       "2  581125017600866        14         4      4      9      2         1      0   \n",
       "3  581125017600866        14         4      4      9      2         1      0   \n",
       "4  809001585510960        13         3      3      7      5         1      0   \n",
       "\n",
       "   PERRP  PEPARENT  ...  HESP7  HESP7A  HESP8  HESS1  HESH4  HESC1  HESC2  \\\n",
       "0      1        -1  ...     -1      -1     -1      0     -1     -1     -1   \n",
       "1      3        -1  ...     -1      -1     -1      0     -1     -1     -1   \n",
       "2      4         1  ...     -1      -1     -1      0     -1     -1     -1   \n",
       "3      4         1  ...     -1      -1     -1      0     -1     -1     -1   \n",
       "4      1        -1  ...     -1      -1     -1      0     -1     -1     -1   \n",
       "\n",
       "   HESC3  HESC3A  food_secure  \n",
       "0     -1      -1            0  \n",
       "1     -1      -1            0  \n",
       "2     -1      -1            0  \n",
       "3     -1      -1            0  \n",
       "4     -1      -1            0  \n",
       "\n",
       "[5 rows x 99 columns]"
      ]
     },
     "execution_count": 60,
     "metadata": {},
     "output_type": "execute_result"
    }
   ],
   "source": [
    "df.head()"
   ]
  },
  {
   "cell_type": "code",
   "execution_count": 61,
   "metadata": {},
   "outputs": [
    {
     "data": {
      "text/plain": [
       "Index(['HRHHID', 'HEFAMINC', 'HRNUMHOU', 'GEREG', 'GEDIV', 'GCFIP', 'GTMETSTA',\n",
       "       'GCTCS', 'PERRP', 'PEPARENT', 'PRTAGE', 'PRTFAGE', 'PEMARITL',\n",
       "       'PESPOUSE', 'PESEX', 'PEAFEVER', 'PEAFNOW', 'PEEDUCA', 'PTDTRACE',\n",
       "       'PRDTHSP', 'PUCHINHH', 'PULINENO', 'PRFAMREL', 'PEHSPNON', 'PENATVTY',\n",
       "       'PEMNTVTY', 'PEFNTVTY', 'PRCITSHP', 'PRINUYER', 'PUSLFPRX', 'PEMLR',\n",
       "       'PUWK', 'PUDIS', 'PERET1', 'PEMJOT', 'PEMJNUM', 'PEHRUSL1', 'PEHRUSL2',\n",
       "       'PEHRFTPT', 'PEHRUSLT', 'PEHRRSN1', 'PULK', 'PELKLL1O', 'PELKLL2O',\n",
       "       'PEJHRSN', 'PRHRUSL', 'PEIO1COW', 'PUIO1MFG', 'PEIO2COW', 'PUIO2MFG',\n",
       "       'PRAGNA', 'PRCOW1', 'PRCOW2', 'PRDTIND1', 'PRDTIND2', 'PRDTOCC1',\n",
       "       'PRDTOCC2', 'PRNAGWS', 'PRSJMJ', 'PRERELG', 'PEERNUOT', 'PEERNPER',\n",
       "       'PEERNRT', 'PEERNHRY', 'PUERNH1C', 'PEERNH2', 'PEERNHRO', 'PRERNWA',\n",
       "       'PEERN', 'PEERNWKP', 'PEERNLAB', 'PEERNCOV', 'PENLFACT', 'PESCHFT',\n",
       "       'PESCHLVL', 'PRNLFSCH', 'PRNMCHLD', 'QSTNUM', 'OCCURNUM', 'PEDIPGED',\n",
       "       'PECYC', 'PEAFWHN1', 'PEDADTYP', 'PEMOMTYP', 'PRDISFLG', 'HXFAMINC',\n",
       "       'PRDASIAN', 'HETSP3O', 'HESP6', 'HESP7', 'HESP7A', 'HESP8', 'HESS1',\n",
       "       'HESH4', 'HESC1', 'HESC2', 'HESC3', 'HESC3A', 'food_secure'],\n",
       "      dtype='object')"
      ]
     },
     "execution_count": 61,
     "metadata": {},
     "output_type": "execute_result"
    }
   ],
   "source": [
    "df.columns"
   ]
  },
  {
   "cell_type": "code",
   "execution_count": 62,
   "metadata": {},
   "outputs": [],
   "source": [
    "#saving cleaned data set\n",
    "df.to_csv('./data/cleaned_data.csv', index=False)"
   ]
  }
 ],
 "metadata": {
  "kernelspec": {
   "display_name": "Python 3",
   "language": "python",
   "name": "python3"
  },
  "language_info": {
   "codemirror_mode": {
    "name": "ipython",
    "version": 3
   },
   "file_extension": ".py",
   "mimetype": "text/x-python",
   "name": "python",
   "nbconvert_exporter": "python",
   "pygments_lexer": "ipython3",
   "version": "3.8.3"
  }
 },
 "nbformat": 4,
 "nbformat_minor": 4
}
