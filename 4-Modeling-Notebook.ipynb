{
 "cells": [
  {
   "cell_type": "markdown",
   "metadata": {},
   "source": [
    "# Classification Modeling\n",
    "\n",
    "- The question being asked in this project is if we can predict whether or not someone experiences food insecurity or not. Since this is a question with either a this or that answer, classification modeling will be used to get the predictions.\n",
    "- The models that will be explored include Random Forest Classifier, Logistic Regression, Decision Trees, Bagging Decision Trees, and Support Vector Classifier.\n",
    "- The goal will be to get a model that is not over or underfit as well as a modle that minimizes the false negatives. It is important to minimize false negatives because that would mean we are predicting people to be food secure when in actuality they are experiencing food insecurity. Wrongfully classifying those individuals would result in them not recieving the means necessary or having access to affordable foods and the goal of this project is to build a model that will allow for policy makers to allocate enough resources to households who experience food insecurity."
   ]
  },
  {
   "cell_type": "markdown",
   "metadata": {},
   "source": [
    "### Libraries and Data"
   ]
  },
  {
   "cell_type": "code",
   "execution_count": 1,
   "metadata": {},
   "outputs": [],
   "source": [
    "import pandas as pd\n",
    "import numpy as np\n",
    "import matplotlib.pyplot as plt\n",
    "import seaborn as sns\n",
    "\n",
    "from sklearn.linear_model import LogisticRegression\n",
    "\n",
    "from sklearn.model_selection import cross_val_score, train_test_split, GridSearchCV \n",
    "\n",
    "from sklearn.pipeline import Pipeline\n",
    "\n",
    "from sklearn.metrics import accuracy_score, confusion_matrix, \\\n",
    "classification_report, recall_score, precision_score, plot_confusion_matrix\n",
    "\n",
    "from sklearn.tree import DecisionTreeClassifier, plot_tree, export_text\n",
    "\n",
    "from sklearn.ensemble import BaggingClassifier, RandomForestClassifier\n",
    "\n",
    "from sklearn.preprocessing import StandardScaler, PolynomialFeatures \n",
    "\n",
    "from category_encoders import TargetEncoder\n",
    "\n",
    "from sklearn.decomposition import PCA"
   ]
  },
  {
   "cell_type": "code",
   "execution_count": 2,
   "metadata": {},
   "outputs": [],
   "source": [
    "df = pd.read_csv('./data/cleaned_data.csv')"
   ]
  },
  {
   "cell_type": "code",
   "execution_count": 3,
   "metadata": {},
   "outputs": [
    {
     "data": {
      "text/plain": [
       "(48870, 33)"
      ]
     },
     "execution_count": 3,
     "metadata": {},
     "output_type": "execute_result"
    }
   ],
   "source": [
    "df.shape"
   ]
  },
  {
   "cell_type": "code",
   "execution_count": 4,
   "metadata": {
    "scrolled": true
   },
   "outputs": [
    {
     "data": {
      "text/html": [
       "<div>\n",
       "<style scoped>\n",
       "    .dataframe tbody tr th:only-of-type {\n",
       "        vertical-align: middle;\n",
       "    }\n",
       "\n",
       "    .dataframe tbody tr th {\n",
       "        vertical-align: top;\n",
       "    }\n",
       "\n",
       "    .dataframe thead th {\n",
       "        text-align: right;\n",
       "    }\n",
       "</style>\n",
       "<table border=\"1\" class=\"dataframe\">\n",
       "  <thead>\n",
       "    <tr style=\"text-align: right;\">\n",
       "      <th></th>\n",
       "      <th>HEFAMINC</th>\n",
       "      <th>HRNUMHOU</th>\n",
       "      <th>PRTAGE</th>\n",
       "      <th>PERET1</th>\n",
       "      <th>PEHRUSLT</th>\n",
       "      <th>PRNMCHLD</th>\n",
       "      <th>QSTNUM</th>\n",
       "      <th>HESP6</th>\n",
       "      <th>HESP7</th>\n",
       "      <th>HESP7A</th>\n",
       "      <th>...</th>\n",
       "      <th>race</th>\n",
       "      <th>marital_status</th>\n",
       "      <th>food_pantry</th>\n",
       "      <th>has_dis</th>\n",
       "      <th>service_status</th>\n",
       "      <th>job_loss</th>\n",
       "      <th>type_job</th>\n",
       "      <th>in_union</th>\n",
       "      <th>in_school</th>\n",
       "      <th>has_stamps</th>\n",
       "    </tr>\n",
       "  </thead>\n",
       "  <tbody>\n",
       "    <tr>\n",
       "      <th>0</th>\n",
       "      <td>100000</td>\n",
       "      <td>4</td>\n",
       "      <td>30</td>\n",
       "      <td>0</td>\n",
       "      <td>60</td>\n",
       "      <td>2</td>\n",
       "      <td>1</td>\n",
       "      <td>0</td>\n",
       "      <td>0</td>\n",
       "      <td>0</td>\n",
       "      <td>...</td>\n",
       "      <td>White</td>\n",
       "      <td>yes</td>\n",
       "      <td>Unknown</td>\n",
       "      <td>No</td>\n",
       "      <td>No</td>\n",
       "      <td>No</td>\n",
       "      <td>ForProf</td>\n",
       "      <td>No</td>\n",
       "      <td>No</td>\n",
       "      <td>no</td>\n",
       "    </tr>\n",
       "    <tr>\n",
       "      <th>1</th>\n",
       "      <td>75000</td>\n",
       "      <td>3</td>\n",
       "      <td>20</td>\n",
       "      <td>0</td>\n",
       "      <td>40</td>\n",
       "      <td>1</td>\n",
       "      <td>2</td>\n",
       "      <td>0</td>\n",
       "      <td>0</td>\n",
       "      <td>0</td>\n",
       "      <td>...</td>\n",
       "      <td>White</td>\n",
       "      <td>yes</td>\n",
       "      <td>Unknown</td>\n",
       "      <td>No</td>\n",
       "      <td>No</td>\n",
       "      <td>No</td>\n",
       "      <td>ForProf</td>\n",
       "      <td>No</td>\n",
       "      <td>College</td>\n",
       "      <td>no</td>\n",
       "    </tr>\n",
       "    <tr>\n",
       "      <th>2</th>\n",
       "      <td>25000</td>\n",
       "      <td>3</td>\n",
       "      <td>20</td>\n",
       "      <td>0</td>\n",
       "      <td>0</td>\n",
       "      <td>1</td>\n",
       "      <td>5</td>\n",
       "      <td>0</td>\n",
       "      <td>0</td>\n",
       "      <td>2</td>\n",
       "      <td>...</td>\n",
       "      <td>White</td>\n",
       "      <td>yes</td>\n",
       "      <td>Yes</td>\n",
       "      <td>No</td>\n",
       "      <td>No</td>\n",
       "      <td>No</td>\n",
       "      <td>0</td>\n",
       "      <td>No</td>\n",
       "      <td>No</td>\n",
       "      <td>no</td>\n",
       "    </tr>\n",
       "    <tr>\n",
       "      <th>3</th>\n",
       "      <td>50000</td>\n",
       "      <td>1</td>\n",
       "      <td>20</td>\n",
       "      <td>0</td>\n",
       "      <td>40</td>\n",
       "      <td>0</td>\n",
       "      <td>6</td>\n",
       "      <td>0</td>\n",
       "      <td>0</td>\n",
       "      <td>0</td>\n",
       "      <td>...</td>\n",
       "      <td>Black</td>\n",
       "      <td>no</td>\n",
       "      <td>Yes</td>\n",
       "      <td>No</td>\n",
       "      <td>No</td>\n",
       "      <td>No</td>\n",
       "      <td>ForProf</td>\n",
       "      <td>No</td>\n",
       "      <td>No</td>\n",
       "      <td>no</td>\n",
       "    </tr>\n",
       "    <tr>\n",
       "      <th>4</th>\n",
       "      <td>150000</td>\n",
       "      <td>6</td>\n",
       "      <td>40</td>\n",
       "      <td>0</td>\n",
       "      <td>32</td>\n",
       "      <td>0</td>\n",
       "      <td>7</td>\n",
       "      <td>0</td>\n",
       "      <td>0</td>\n",
       "      <td>0</td>\n",
       "      <td>...</td>\n",
       "      <td>White</td>\n",
       "      <td>yes</td>\n",
       "      <td>Yes</td>\n",
       "      <td>No</td>\n",
       "      <td>No</td>\n",
       "      <td>No</td>\n",
       "      <td>Self-emp</td>\n",
       "      <td>No</td>\n",
       "      <td>No</td>\n",
       "      <td>no</td>\n",
       "    </tr>\n",
       "  </tbody>\n",
       "</table>\n",
       "<p>5 rows × 33 columns</p>\n",
       "</div>"
      ],
      "text/plain": [
       "   HEFAMINC  HRNUMHOU  PRTAGE  PERET1  PEHRUSLT  PRNMCHLD  QSTNUM  HESP6  \\\n",
       "0    100000         4      30       0        60         2       1      0   \n",
       "1     75000         3      20       0        40         1       2      0   \n",
       "2     25000         3      20       0         0         1       5      0   \n",
       "3     50000         1      20       0        40         0       6      0   \n",
       "4    150000         6      40       0        32         0       7      0   \n",
       "\n",
       "   HESP7  HESP7A  ...   race  marital_status  food_pantry  has_dis  \\\n",
       "0      0       0  ...  White             yes      Unknown       No   \n",
       "1      0       0  ...  White             yes      Unknown       No   \n",
       "2      0       2  ...  White             yes          Yes       No   \n",
       "3      0       0  ...  Black              no          Yes       No   \n",
       "4      0       0  ...  White             yes          Yes       No   \n",
       "\n",
       "   service_status  job_loss  type_job in_union in_school has_stamps  \n",
       "0              No        No   ForProf       No        No         no  \n",
       "1              No        No   ForProf       No   College         no  \n",
       "2              No        No         0       No        No         no  \n",
       "3              No        No   ForProf       No        No         no  \n",
       "4              No        No  Self-emp       No        No         no  \n",
       "\n",
       "[5 rows x 33 columns]"
      ]
     },
     "execution_count": 4,
     "metadata": {},
     "output_type": "execute_result"
    }
   ],
   "source": [
    "df.head()"
   ]
  },
  {
   "cell_type": "markdown",
   "metadata": {},
   "source": [
    "### Last Data Cleaning Steps\n",
    "\n",
    "- Since I had to covnert a lot of my columns back to their categorical values for data analysis, I will be taking some steps to convert back to numerical values for modeling below.\n",
    "- Any column that has either yes or no values will be changed to values of 1 for yes and 0 for no.\n",
    "- The other columns will either be dummified or target encoded based on the variables specific to the column.\n",
    "- Dropping the column for household number identifier since we will not need that for modeling or the dataframe anymore because duplicates were dropped earlier."
   ]
  },
  {
   "cell_type": "code",
   "execution_count": 5,
   "metadata": {},
   "outputs": [],
   "source": [
    "df.replace(['yes', 'no'], [1, 0], inplace=True)"
   ]
  },
  {
   "cell_type": "code",
   "execution_count": 6,
   "metadata": {},
   "outputs": [],
   "source": [
    "df['is_metro'] = df['is_metro'].map({'Metro':1, 'No':0}) "
   ]
  },
  {
   "cell_type": "code",
   "execution_count": 7,
   "metadata": {},
   "outputs": [],
   "source": [
    "df['has_dis'] = df['has_dis'].map({'Yes':1, 'No':0})"
   ]
  },
  {
   "cell_type": "code",
   "execution_count": 8,
   "metadata": {},
   "outputs": [],
   "source": [
    "df['in_school'] = df['in_school'].map({'College':1, 'HS':1, 'No':0})"
   ]
  },
  {
   "cell_type": "code",
   "execution_count": 9,
   "metadata": {},
   "outputs": [],
   "source": [
    "df['in_union'] = df['in_union'].map({'Yes':1, 'No':0})"
   ]
  },
  {
   "cell_type": "code",
   "execution_count": 10,
   "metadata": {},
   "outputs": [],
   "source": [
    "df['job_loss'] = df['job_loss'].map({'Lost':1, 'Quit':1, 'Temp':1, 'No':0})"
   ]
  },
  {
   "cell_type": "code",
   "execution_count": 11,
   "metadata": {},
   "outputs": [],
   "source": [
    "df['service_status'] = df['service_status'].map({'Yes':1, 'No':0})"
   ]
  },
  {
   "cell_type": "code",
   "execution_count": 12,
   "metadata": {},
   "outputs": [],
   "source": [
    "df['sex'] = df['sex'].map({'Male':1, 'Female':0})"
   ]
  },
  {
   "cell_type": "code",
   "execution_count": 13,
   "metadata": {},
   "outputs": [],
   "source": [
    "df.drop('QSTNUM', axis=1, inplace=True)"
   ]
  },
  {
   "cell_type": "markdown",
   "metadata": {},
   "source": [
    "### Pre Processing\n",
    "- After reading this article about [target encoding](https://maxhalford.github.io/blog/target-encoding/) I took the advice to use this function so that I could target encode my variables before doing a train/test/split since using the target encode method requires a X and y training but no way to save it to the data frame. The function is based off of this equation which was also gathered from the article.\n",
    "\\begin{equation}\n",
    "\\mu = \\frac{n \\times \\bar{x} + m \\times w}{n + m}\n",
    "\\end{equation}"
   ]
  },
  {
   "cell_type": "code",
   "execution_count": 14,
   "metadata": {},
   "outputs": [],
   "source": [
    "#target encoding categorical variables\n",
    "# arguments needed are dataframe to reference, column to find mean by, \n",
    "    # target column to base mean on, and the weight which was recommended as 10\n",
    "def target_encode(df, by, on, m):\n",
    "    \n",
    "    # getting mean from our target column\n",
    "    mean = df[on].mean()\n",
    "    \n",
    "    #getting count of amount of values and the mean\n",
    "    agg = df.groupby(by)[on].agg(['count', 'mean'])\n",
    "    n = agg['count']\n",
    "    means = agg['mean']\n",
    "    \n",
    "    # calculating smooth means by multiplying the num of variables with the means \n",
    "     # adding that to the weighted mean and dividing by the sum of counts and weight\n",
    "    smooth = (n * means + m * mean)/ (n + m)\n",
    "    \n",
    "    # using .map() to replace the old values with the target encoded mean values\n",
    "    return df[by].map(smooth)"
   ]
  },
  {
   "cell_type": "code",
   "execution_count": 15,
   "metadata": {},
   "outputs": [],
   "source": [
    "df['state'] = target_encode(df, 'state', 'food_secure', m=10)\n",
    "df['region'] = target_encode(df, 'region', 'food_secure', m=10)\n",
    "df['division'] = target_encode(df, 'division', 'food_secure', m=10)\n",
    "df['education'] = target_encode(df, 'education', 'food_secure', m=10)\n",
    "df['race'] = target_encode(df, 'race', 'food_secure', m=10)\n",
    "df['food_pantry'] = target_encode(df, 'food_pantry', 'food_secure', m=10)\n",
    "df['type_job'] = target_encode(df, 'type_job', 'food_secure', m=10)"
   ]
  },
  {
   "cell_type": "markdown",
   "metadata": {},
   "source": [
    "#### Baseline Score"
   ]
  },
  {
   "cell_type": "code",
   "execution_count": 16,
   "metadata": {},
   "outputs": [
    {
     "data": {
      "text/plain": [
       "0    82.14\n",
       "1    17.86\n",
       "Name: food_secure, dtype: float64"
      ]
     },
     "execution_count": 16,
     "metadata": {},
     "output_type": "execute_result"
    }
   ],
   "source": [
    "df['food_secure'].value_counts(normalize=True).mul(100).round(2)"
   ]
  },
  {
   "cell_type": "code",
   "execution_count": 17,
   "metadata": {},
   "outputs": [],
   "source": [
    "#set up X and y variables\n",
    "X = df.drop('food_secure', axis=1)\n",
    "\n",
    "y = df['food_secure']"
   ]
  },
  {
   "cell_type": "code",
   "execution_count": 18,
   "metadata": {},
   "outputs": [],
   "source": [
    "X_train, X_test, y_train, y_test = train_test_split(X, y, test_size=0.33, random_state=42, stratify=y)"
   ]
  },
  {
   "cell_type": "code",
   "execution_count": 19,
   "metadata": {},
   "outputs": [],
   "source": [
    "#scaling data for the models that will need it\n",
    "ss = StandardScaler()\n",
    "\n",
    "X_train_sc = ss.fit_transform(X_train)\n",
    "X_test_sc = ss.transform(X_test)"
   ]
  },
  {
   "cell_type": "markdown",
   "metadata": {},
   "source": [
    "### Logistic Regression"
   ]
  },
  {
   "cell_type": "code",
   "execution_count": 20,
   "metadata": {},
   "outputs": [
    {
     "data": {
      "text/plain": [
       "LogisticRegression()"
      ]
     },
     "execution_count": 20,
     "metadata": {},
     "output_type": "execute_result"
    }
   ],
   "source": [
    "#instantiate model\n",
    "lr = LogisticRegression()\n",
    "\n",
    "#fit model\n",
    "lr.fit(X_train_sc, y_train)"
   ]
  },
  {
   "cell_type": "code",
   "execution_count": 21,
   "metadata": {},
   "outputs": [
    {
     "name": "stdout",
     "output_type": "stream",
     "text": [
      "Score on training data:  0.9373587441207012\n",
      "Score on testing data:  0.9375\n"
     ]
    }
   ],
   "source": [
    "print(f\"Score on training data: \", lr.score(X_train_sc, y_train))\n",
    "print(f\"Score on testing data: \", lr.score(X_test_sc, y_test))"
   ]
  },
  {
   "cell_type": "code",
   "execution_count": 22,
   "metadata": {},
   "outputs": [
    {
     "name": "stdout",
     "output_type": "stream",
     "text": [
      "[[13117   131]\n",
      " [  877  2003]]\n"
     ]
    }
   ],
   "source": [
    "y_preds = lr.predict(X_test_sc)\n",
    "\n",
    "tn, fp, fn, tp = confusion_matrix(y_test, y_preds).ravel()\n",
    "\n",
    "print(confusion_matrix(y_test, y_preds))"
   ]
  },
  {
   "cell_type": "code",
   "execution_count": 23,
   "metadata": {
    "scrolled": true
   },
   "outputs": [
    {
     "data": {
      "image/png": "[encoded data removed]",
      "text/plain": [
       "<Figure size 432x288 with 2 Axes>"
      ]
     },
     "metadata": {
      "needs_background": "light"
     },
     "output_type": "display_data"
    }
   ],
   "source": [
    "plot_confusion_matrix(lr, X_test_sc, y_test, cmap='PuBu');\n"
   ]
  },
  {
   "cell_type": "code",
   "execution_count": 24,
   "metadata": {},
   "outputs": [
    {
     "name": "stdout",
     "output_type": "stream",
     "text": [
      "Sensitivity score:  0.6954861111111111\n"
     ]
    }
   ],
   "source": [
    "lr_sens = tp / (tp + fn)\n",
    "\n",
    "print(f\"Sensitivity score: \", lr_sens)"
   ]
  },
  {
   "cell_type": "code",
   "execution_count": 25,
   "metadata": {
    "scrolled": true
   },
   "outputs": [
    {
     "name": "stdout",
     "output_type": "stream",
     "text": [
      "Specificity score:  0.9373302844076032\n"
     ]
    }
   ],
   "source": [
    "lr_spec = tn / (tn + fn)\n",
    "\n",
    "print(f\"Specificity score: \", lr_spec)"
   ]
  },
  {
   "cell_type": "code",
   "execution_count": 26,
   "metadata": {},
   "outputs": [
    {
     "name": "stdout",
     "output_type": "stream",
     "text": [
      "              precision    recall  f1-score   support\n",
      "\n",
      "           0       0.94      0.99      0.96     13248\n",
      "           1       0.94      0.70      0.80      2880\n",
      "\n",
      "    accuracy                           0.94     16128\n",
      "   macro avg       0.94      0.84      0.88     16128\n",
      "weighted avg       0.94      0.94      0.93     16128\n",
      "\n"
     ]
    }
   ],
   "source": [
    "print(classification_report(y_test, y_preds))"
   ]
  },
  {
   "cell_type": "markdown",
   "metadata": {},
   "source": [
    "### Logistic Regression with PCA"
   ]
  },
  {
   "cell_type": "code",
   "execution_count": 27,
   "metadata": {},
   "outputs": [],
   "source": [
    "pca = PCA(n_components=31, random_state=42)\n",
    "\n",
    "pca.fit(X_train_sc)\n",
    "\n",
    "Z_train = pca.transform(X_train_sc)\n",
    "Z_test = pca.transform(X_test_sc)"
   ]
  },
  {
   "cell_type": "code",
   "execution_count": 28,
   "metadata": {},
   "outputs": [
    {
     "name": "stdout",
     "output_type": "stream",
     "text": [
      "Score on training data:  0.8013560564412681\n",
      "Score on testing data:  0.8053075396825397\n"
     ]
    }
   ],
   "source": [
    "logreg = LogisticRegression()\n",
    "\n",
    "logreg.fit(Z_train, y_train)\n",
    "\n",
    "print(f\"Score on training data: \", lr.score(Z_train, y_train))\n",
    "print(f\"Score on testing data: \", lr.score(Z_test, y_test))"
   ]
  },
  {
   "cell_type": "code",
   "execution_count": 29,
   "metadata": {},
   "outputs": [
    {
     "name": "stdout",
     "output_type": "stream",
     "text": [
      "[[13117   131]\n",
      " [  877  2003]]\n"
     ]
    }
   ],
   "source": [
    "pca_preds = logreg.predict(Z_test)\n",
    "\n",
    "tn, fp, fn, tp = confusion_matrix(y_test, pca_preds).ravel()\n",
    "\n",
    "print(confusion_matrix(y_test, pca_preds))"
   ]
  },
  {
   "cell_type": "code",
   "execution_count": 30,
   "metadata": {
    "scrolled": true
   },
   "outputs": [
    {
     "data": {
      "image/png": "[encoded data removed]",
      "text/plain": [
       "<Figure size 432x288 with 2 Axes>"
      ]
     },
     "metadata": {
      "needs_background": "light"
     },
     "output_type": "display_data"
    }
   ],
   "source": [
    "plot_confusion_matrix(logreg, Z_test, y_test, cmap='PuBu');"
   ]
  },
  {
   "cell_type": "code",
   "execution_count": 31,
   "metadata": {},
   "outputs": [
    {
     "name": "stdout",
     "output_type": "stream",
     "text": [
      "              precision    recall  f1-score   support\n",
      "\n",
      "           0       0.94      0.99      0.96     13248\n",
      "           1       0.94      0.70      0.80      2880\n",
      "\n",
      "    accuracy                           0.94     16128\n",
      "   macro avg       0.94      0.84      0.88     16128\n",
      "weighted avg       0.94      0.94      0.93     16128\n",
      "\n"
     ]
    }
   ],
   "source": [
    "print(classification_report(y_test, pca_preds))"
   ]
  },
  {
   "cell_type": "markdown",
   "metadata": {},
   "source": [
    "### Decision Tree Classifier"
   ]
  },
  {
   "cell_type": "code",
   "execution_count": 32,
   "metadata": {},
   "outputs": [
    {
     "data": {
      "text/plain": [
       "DecisionTreeClassifier()"
      ]
     },
     "execution_count": 32,
     "metadata": {},
     "output_type": "execute_result"
    }
   ],
   "source": [
    "dtc = DecisionTreeClassifier()\n",
    "\n",
    "dtc.fit(X_train, y_train)"
   ]
  },
  {
   "cell_type": "code",
   "execution_count": 33,
   "metadata": {},
   "outputs": [
    {
     "name": "stdout",
     "output_type": "stream",
     "text": [
      "Score on training set:  0.9993586219534543\n",
      "Score on testing set:  0.9172247023809523\n"
     ]
    }
   ],
   "source": [
    "print(f'Score on training set: ', dtc.score(X_train, y_train))\n",
    "print(f'Score on testing set: ', dtc.score(X_test, y_test))"
   ]
  },
  {
   "cell_type": "code",
   "execution_count": 34,
   "metadata": {},
   "outputs": [],
   "source": [
    "# now running the decision tree through a gridsearch\n",
    "params = {'max_depth': [5, 10, 15, 20, 25, 30],\n",
    "          'min_samples_split': [5, 10, 15, 20],\n",
    "          'min_samples_leaf': [2, 4, 6, 8, 10],\n",
    "          'ccp_alpha': [0, 0.001, 0.01, 1, 10]}"
   ]
  },
  {
   "cell_type": "code",
   "execution_count": 35,
   "metadata": {},
   "outputs": [
    {
     "data": {
      "text/plain": [
       "GridSearchCV(cv=5, estimator=DecisionTreeClassifier(),\n",
       "             param_grid={'ccp_alpha': [0, 0.001, 0.01, 1, 10],\n",
       "                         'max_depth': [5, 10, 15, 20, 25, 30],\n",
       "                         'min_samples_leaf': [2, 4, 6, 8, 10],\n",
       "                         'min_samples_split': [5, 10, 15, 20]})"
      ]
     },
     "execution_count": 35,
     "metadata": {},
     "output_type": "execute_result"
    }
   ],
   "source": [
    "dt_grid = GridSearchCV(DecisionTreeClassifier(),\n",
    "                       params,\n",
    "                       cv=5)\n",
    "\n",
    "dt_grid.fit(X_train, y_train)"
   ]
  },
  {
   "cell_type": "code",
   "execution_count": 36,
   "metadata": {},
   "outputs": [
    {
     "data": {
      "text/plain": [
       "{'ccp_alpha': 0.001,\n",
       " 'max_depth': 10,\n",
       " 'min_samples_leaf': 2,\n",
       " 'min_samples_split': 5}"
      ]
     },
     "execution_count": 36,
     "metadata": {},
     "output_type": "execute_result"
    }
   ],
   "source": [
    "dt_grid.best_params_"
   ]
  },
  {
   "cell_type": "code",
   "execution_count": 37,
   "metadata": {},
   "outputs": [
    {
     "data": {
      "text/plain": [
       "0.9487507780499301"
      ]
     },
     "execution_count": 37,
     "metadata": {},
     "output_type": "execute_result"
    }
   ],
   "source": [
    "dt_grid.best_score_"
   ]
  },
  {
   "cell_type": "code",
   "execution_count": 38,
   "metadata": {},
   "outputs": [
    {
     "name": "stdout",
     "output_type": "stream",
     "text": [
      "Score on training set: 0.9504000977337975\n",
      "Score on testing set: 0.9502728174603174\n"
     ]
    }
   ],
   "source": [
    "print(f'Score on training set: {dt_grid.score(X_train, y_train)}')\n",
    "print(f'Score on testing set: {dt_grid.score(X_test, y_test)}')"
   ]
  },
  {
   "cell_type": "code",
   "execution_count": 39,
   "metadata": {},
   "outputs": [],
   "source": [
    "dt_preds = dt_grid.predict(X_test)"
   ]
  },
  {
   "cell_type": "code",
   "execution_count": 40,
   "metadata": {},
   "outputs": [
    {
     "name": "stdout",
     "output_type": "stream",
     "text": [
      "[[13143   105]\n",
      " [  697  2183]]\n"
     ]
    }
   ],
   "source": [
    "tn, fp, fn, tp = confusion_matrix(y_test, dt_preds).ravel()\n",
    "\n",
    "print(confusion_matrix(y_test, dt_preds))"
   ]
  },
  {
   "cell_type": "code",
   "execution_count": 41,
   "metadata": {},
   "outputs": [
    {
     "data": {
      "image/png": "[encoded data removed]",
      "text/plain": [
       "<Figure size 432x288 with 2 Axes>"
      ]
     },
     "metadata": {
      "needs_background": "light"
     },
     "output_type": "display_data"
    }
   ],
   "source": [
    "plot_confusion_matrix(dt_grid, X_test, y_test, cmap='PuBu');"
   ]
  },
  {
   "cell_type": "code",
   "execution_count": 42,
   "metadata": {},
   "outputs": [
    {
     "name": "stdout",
     "output_type": "stream",
     "text": [
      "Sensitivity score:  0.7579861111111111\n"
     ]
    }
   ],
   "source": [
    "dt_sens = tp / (tp + fn)\n",
    "\n",
    "print(f\"Sensitivity score: \", dt_sens)"
   ]
  },
  {
   "cell_type": "code",
   "execution_count": 43,
   "metadata": {},
   "outputs": [
    {
     "name": "stdout",
     "output_type": "stream",
     "text": [
      "Specificity score:  0.9496387283236994\n"
     ]
    }
   ],
   "source": [
    "dt_spec = tn / (tn + fn)\n",
    "\n",
    "print(f\"Specificity score: \", dt_spec)"
   ]
  },
  {
   "cell_type": "code",
   "execution_count": 44,
   "metadata": {},
   "outputs": [
    {
     "name": "stdout",
     "output_type": "stream",
     "text": [
      "              precision    recall  f1-score   support\n",
      "\n",
      "           0       0.95      0.99      0.97     13248\n",
      "           1       0.95      0.76      0.84      2880\n",
      "\n",
      "    accuracy                           0.95     16128\n",
      "   macro avg       0.95      0.88      0.91     16128\n",
      "weighted avg       0.95      0.95      0.95     16128\n",
      "\n"
     ]
    }
   ],
   "source": [
    "print(classification_report(y_test, dt_preds))"
   ]
  },
  {
   "cell_type": "code",
   "execution_count": 45,
   "metadata": {
    "scrolled": true
   },
   "outputs": [
    {
     "data": {
      "image/png": "[encoded data removed]",
      "text/plain": [
       "<Figure size 1080x864 with 1 Axes>"
      ]
     },
     "metadata": {
      "needs_background": "light"
     },
     "output_type": "display_data"
    }
   ],
   "source": [
    "plt.figure(figsize = (15, 12))\n",
    "\n",
    "# Plot our tree.\n",
    "plot_tree(dt_grid.best_estimator_,\n",
    "          feature_names = X_train.columns,\n",
    "          class_names = ['Food Secure', 'Food Insecure'],\n",
    "          filled = True);"
   ]
  },
  {
   "cell_type": "markdown",
   "metadata": {},
   "source": [
    "### Bag of Trees"
   ]
  },
  {
   "cell_type": "code",
   "execution_count": 46,
   "metadata": {},
   "outputs": [],
   "source": [
    "base_tree = DecisionTreeClassifier()\n",
    "\n",
    "bag = BaggingClassifier(base_estimator=base_tree,\n",
    "                        n_estimators=10,\n",
    "                        bootstrap=True,\n",
    "                        random_state=42)"
   ]
  },
  {
   "cell_type": "code",
   "execution_count": 47,
   "metadata": {},
   "outputs": [
    {
     "data": {
      "text/plain": [
       "BaggingClassifier(base_estimator=DecisionTreeClassifier(), random_state=42)"
      ]
     },
     "execution_count": 47,
     "metadata": {},
     "output_type": "execute_result"
    }
   ],
   "source": [
    "bag.fit(X_train, y_train)"
   ]
  },
  {
   "cell_type": "code",
   "execution_count": 48,
   "metadata": {},
   "outputs": [
    {
     "name": "stdout",
     "output_type": "stream",
     "text": [
      "Score on training data: 0.9928532160527762\n",
      "Score on testing data: 0.9471106150793651\n"
     ]
    }
   ],
   "source": [
    "print(f\"Score on training data:\", bag.score(X_train, y_train))\n",
    "print(f\"Score on testing data:\", bag.score(X_test, y_test))"
   ]
  },
  {
   "cell_type": "code",
   "execution_count": 49,
   "metadata": {},
   "outputs": [],
   "source": [
    "bag_preds = bag.predict(X_test)"
   ]
  },
  {
   "cell_type": "code",
   "execution_count": 50,
   "metadata": {},
   "outputs": [
    {
     "name": "stdout",
     "output_type": "stream",
     "text": [
      "[[13025   223]\n",
      " [  630  2250]]\n"
     ]
    }
   ],
   "source": [
    "tn, fp, fn, tp = confusion_matrix(y_test, bag_preds).ravel()\n",
    "\n",
    "print(confusion_matrix(y_test, bag_preds))"
   ]
  },
  {
   "cell_type": "code",
   "execution_count": 51,
   "metadata": {},
   "outputs": [
    {
     "data": {
      "image/png": "[encoded data removed]",
      "text/plain": [
       "<Figure size 432x288 with 2 Axes>"
      ]
     },
     "metadata": {
      "needs_background": "light"
     },
     "output_type": "display_data"
    }
   ],
   "source": [
    "plot_confusion_matrix(bag, X_test, y_test, cmap='PuBu');"
   ]
  },
  {
   "cell_type": "code",
   "execution_count": 52,
   "metadata": {},
   "outputs": [
    {
     "name": "stdout",
     "output_type": "stream",
     "text": [
      "Sensitivity score:  0.78125\n"
     ]
    }
   ],
   "source": [
    "bag_sens = tp / (tp + fn)\n",
    "\n",
    "print(f\"Sensitivity score: \", bag_sens)"
   ]
  },
  {
   "cell_type": "code",
   "execution_count": 53,
   "metadata": {},
   "outputs": [
    {
     "name": "stdout",
     "output_type": "stream",
     "text": [
      "Specificity score:  0.9538630538264372\n"
     ]
    }
   ],
   "source": [
    "bag_spec = tn / (tn + fn)\n",
    "\n",
    "print(f\"Specificity score: \", bag_spec)"
   ]
  },
  {
   "cell_type": "code",
   "execution_count": 54,
   "metadata": {},
   "outputs": [
    {
     "name": "stdout",
     "output_type": "stream",
     "text": [
      "              precision    recall  f1-score   support\n",
      "\n",
      "           0       0.95      0.98      0.97     13248\n",
      "           1       0.91      0.78      0.84      2880\n",
      "\n",
      "    accuracy                           0.95     16128\n",
      "   macro avg       0.93      0.88      0.90     16128\n",
      "weighted avg       0.95      0.95      0.95     16128\n",
      "\n"
     ]
    }
   ],
   "source": [
    "print(classification_report(y_test, bag_preds))"
   ]
  },
  {
   "cell_type": "markdown",
   "metadata": {},
   "source": [
    "### Random Forest"
   ]
  },
  {
   "cell_type": "code",
   "execution_count": 55,
   "metadata": {},
   "outputs": [
    {
     "data": {
      "text/plain": [
       "RandomForestClassifier()"
      ]
     },
     "execution_count": 55,
     "metadata": {},
     "output_type": "execute_result"
    }
   ],
   "source": [
    "rfc = RandomForestClassifier()\n",
    "\n",
    "rfc.fit(X_train, y_train)"
   ]
  },
  {
   "cell_type": "code",
   "execution_count": 56,
   "metadata": {},
   "outputs": [
    {
     "name": "stdout",
     "output_type": "stream",
     "text": [
      "Score on training data: 0.999328080141714\n",
      "Score on testing data: 0.9500868055555556\n"
     ]
    }
   ],
   "source": [
    "print(f\"Score on training data:\", rfc.score(X_train, y_train))\n",
    "print(f\"Score on testing data:\", rfc.score(X_test, y_test))"
   ]
  },
  {
   "cell_type": "code",
   "execution_count": 57,
   "metadata": {},
   "outputs": [],
   "source": [
    "rfc_params = {'max_depth': [5, 10, 15, 20, 25, 30],\n",
    "              'max_features': [5, 10, 15, 20, 25, 30],\n",
    "              'min_samples_split': [5, 10, 15, 20]}"
   ]
  },
  {
   "cell_type": "code",
   "execution_count": 58,
   "metadata": {},
   "outputs": [
    {
     "data": {
      "text/plain": [
       "GridSearchCV(cv=5, estimator=RandomForestClassifier(),\n",
       "             param_grid={'max_depth': [5, 10, 15, 20, 25, 30],\n",
       "                         'max_features': [5, 10, 15, 20, 25, 30],\n",
       "                         'min_samples_split': [5, 10, 15, 20]})"
      ]
     },
     "execution_count": 58,
     "metadata": {},
     "output_type": "execute_result"
    }
   ],
   "source": [
    "rf_grid = GridSearchCV(rfc,\n",
    "                       rfc_params,\n",
    "                       cv=5)\n",
    "\n",
    "rf_grid.fit(X_train, y_train)"
   ]
  },
  {
   "cell_type": "code",
   "execution_count": 59,
   "metadata": {},
   "outputs": [
    {
     "data": {
      "text/plain": [
       "{'max_depth': 30, 'max_features': 25, 'min_samples_split': 20}"
      ]
     },
     "execution_count": 59,
     "metadata": {},
     "output_type": "execute_result"
    }
   ],
   "source": [
    "rf_grid.best_params_"
   ]
  },
  {
   "cell_type": "code",
   "execution_count": 60,
   "metadata": {},
   "outputs": [
    {
     "name": "stdout",
     "output_type": "stream",
     "text": [
      "Score on training data: 0.9654877527334922\n",
      "Score on testing data: 0.953125\n"
     ]
    }
   ],
   "source": [
    "print(f\"Score on training data:\", rf_grid.score(X_train, y_train))\n",
    "print(f\"Score on testing data:\", rf_grid.score(X_test, y_test))"
   ]
  },
  {
   "cell_type": "code",
   "execution_count": 61,
   "metadata": {},
   "outputs": [],
   "source": [
    "rf_preds = rf_grid.predict(X_test)"
   ]
  },
  {
   "cell_type": "code",
   "execution_count": 62,
   "metadata": {},
   "outputs": [
    {
     "name": "stdout",
     "output_type": "stream",
     "text": [
      "[[13105   143]\n",
      " [  613  2267]]\n"
     ]
    }
   ],
   "source": [
    "tn, fp, fn, tp = confusion_matrix(y_test, rf_preds).ravel()\n",
    "\n",
    "print(confusion_matrix(y_test, rf_preds))"
   ]
  },
  {
   "cell_type": "code",
   "execution_count": 63,
   "metadata": {},
   "outputs": [
    {
     "data": {
      "image/png": "[encoded data removed]",
      "text/plain": [
       "<Figure size 432x288 with 2 Axes>"
      ]
     },
     "metadata": {
      "needs_background": "light"
     },
     "output_type": "display_data"
    }
   ],
   "source": [
    "plot_confusion_matrix(rf_grid, X_test, y_test, cmap='PuBu');"
   ]
  },
  {
   "cell_type": "code",
   "execution_count": 64,
   "metadata": {},
   "outputs": [
    {
     "name": "stdout",
     "output_type": "stream",
     "text": [
      "Sensitivity score:  0.7871527777777778\n"
     ]
    }
   ],
   "source": [
    "rf_sens = tp / (tp + fn)\n",
    "\n",
    "print(f\"Sensitivity score: \", rf_sens)"
   ]
  },
  {
   "cell_type": "code",
   "execution_count": 65,
   "metadata": {},
   "outputs": [
    {
     "name": "stdout",
     "output_type": "stream",
     "text": [
      "Specificity score:  0.9553141857413617\n"
     ]
    }
   ],
   "source": [
    "rf_spec = tn / (tn + fn)\n",
    "\n",
    "print(f\"Specificity score: \", rf_spec)"
   ]
  },
  {
   "cell_type": "code",
   "execution_count": 66,
   "metadata": {},
   "outputs": [
    {
     "name": "stdout",
     "output_type": "stream",
     "text": [
      "              precision    recall  f1-score   support\n",
      "\n",
      "           0       0.96      0.99      0.97     13248\n",
      "           1       0.94      0.79      0.86      2880\n",
      "\n",
      "    accuracy                           0.95     16128\n",
      "   macro avg       0.95      0.89      0.91     16128\n",
      "weighted avg       0.95      0.95      0.95     16128\n",
      "\n"
     ]
    }
   ],
   "source": [
    "print(classification_report(y_test, rf_preds))"
   ]
  },
  {
   "cell_type": "markdown",
   "metadata": {},
   "source": [
    "### Support Vector Machine"
   ]
  },
  {
   "cell_type": "code",
   "execution_count": 67,
   "metadata": {},
   "outputs": [],
   "source": [
    "from sklearn.svm import SVC"
   ]
  },
  {
   "cell_type": "code",
   "execution_count": 68,
   "metadata": {},
   "outputs": [
    {
     "data": {
      "text/plain": [
       "SVC()"
      ]
     },
     "execution_count": 68,
     "metadata": {},
     "output_type": "execute_result"
    }
   ],
   "source": [
    "svc = SVC()\n",
    "\n",
    "svc.fit(X_train_sc, y_train)"
   ]
  },
  {
   "cell_type": "code",
   "execution_count": 69,
   "metadata": {},
   "outputs": [
    {
     "name": "stdout",
     "output_type": "stream",
     "text": [
      "Score on training set: 0.9532099444139026\n",
      "Score on testing set: 0.9467385912698413\n"
     ]
    }
   ],
   "source": [
    "print(f\"Score on training set:\", svc.score(X_train_sc, y_train))\n",
    "print(f\"Score on testing set:\", svc.score(X_test_sc, y_test))"
   ]
  },
  {
   "cell_type": "code",
   "execution_count": 70,
   "metadata": {},
   "outputs": [],
   "source": [
    "svc_preds = svc.predict(X_test_sc)"
   ]
  },
  {
   "cell_type": "code",
   "execution_count": 71,
   "metadata": {},
   "outputs": [
    {
     "name": "stdout",
     "output_type": "stream",
     "text": [
      "[[13116   132]\n",
      " [  727  2153]]\n"
     ]
    }
   ],
   "source": [
    "tn, fp, fn, tp = confusion_matrix(y_test, svc_preds).ravel()\n",
    "\n",
    "print(confusion_matrix(y_test, svc_preds))"
   ]
  },
  {
   "cell_type": "code",
   "execution_count": 72,
   "metadata": {
    "scrolled": true
   },
   "outputs": [
    {
     "data": {
      "image/png": "[encoded data removed]",
      "text/plain": [
       "<Figure size 432x288 with 2 Axes>"
      ]
     },
     "metadata": {
      "needs_background": "light"
     },
     "output_type": "display_data"
    }
   ],
   "source": [
    "plot_confusion_matrix(svc, X_test_sc, y_test, cmap='PuBu');"
   ]
  },
  {
   "cell_type": "code",
   "execution_count": 73,
   "metadata": {},
   "outputs": [
    {
     "name": "stdout",
     "output_type": "stream",
     "text": [
      "              precision    recall  f1-score   support\n",
      "\n",
      "           0       0.95      0.99      0.97     13248\n",
      "           1       0.94      0.75      0.83      2880\n",
      "\n",
      "    accuracy                           0.95     16128\n",
      "   macro avg       0.94      0.87      0.90     16128\n",
      "weighted avg       0.95      0.95      0.94     16128\n",
      "\n"
     ]
    }
   ],
   "source": [
    "print(classification_report(y_test, svc_preds))"
   ]
  }
 ],
 "metadata": {
  "kernelspec": {
   "display_name": "Python 3",
   "language": "python",
   "name": "python3"
  },
  "language_info": {
   "codemirror_mode": {
    "name": "ipython",
    "version": 3
   },
   "file_extension": ".py",
   "mimetype": "text/x-python",
   "name": "python",
   "nbconvert_exporter": "python",
   "pygments_lexer": "ipython3",
   "version": "3.8.3"
  }
 },
 "nbformat": 4,
 "nbformat_minor": 4
}
